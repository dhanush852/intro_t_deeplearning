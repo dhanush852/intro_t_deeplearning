{
  "nbformat": 4,
  "nbformat_minor": 0,
  "metadata": {
    "colab": {
      "provenance": [],
      "gpuType": "T4",
      "include_colab_link": true
    },
    "kernelspec": {
      "name": "python3",
      "display_name": "Python 3"
    },
    "language_info": {
      "name": "python"
    },
    "accelerator": "GPU"
  },
  "cells": [
    {
      "cell_type": "markdown",
      "metadata": {
        "id": "view-in-github",
        "colab_type": "text"
      },
      "source": [
        "<a href=\"https://colab.research.google.com/github/dhanush852/intro_to_deeplearning/blob/main/HOMEWORK5_1_C.ipynb\" target=\"_parent\"><img src=\"https://colab.research.google.com/assets/colab-badge.svg\" alt=\"Open In Colab\"/></a>"
      ]
    },
    {
      "cell_type": "code",
      "execution_count": 1,
      "metadata": {
        "colab": {
          "base_uri": "https://localhost:8080/"
        },
        "id": "pYfNTI3d069I",
        "outputId": "66843503-5116-4a96-f3d4-49ac73b1829c"
      },
      "outputs": [
        {
          "output_type": "stream",
          "name": "stdout",
          "text": [
            "Collecting ipython-autotime\n",
            "  Downloading ipython_autotime-0.3.2-py2.py3-none-any.whl (7.0 kB)\n",
            "Requirement already satisfied: ipython in /usr/local/lib/python3.10/dist-packages (from ipython-autotime) (7.34.0)\n",
            "Requirement already satisfied: setuptools>=18.5 in /usr/local/lib/python3.10/dist-packages (from ipython->ipython-autotime) (67.7.2)\n",
            "Collecting jedi>=0.16 (from ipython->ipython-autotime)\n",
            "  Downloading jedi-0.19.1-py2.py3-none-any.whl (1.6 MB)\n",
            "\u001b[2K     \u001b[90m━━━━━━━━━━━━━━━━━━━━━━━━━━━━━━━━━━━━━━━━\u001b[0m \u001b[32m1.6/1.6 MB\u001b[0m \u001b[31m10.7 MB/s\u001b[0m eta \u001b[36m0:00:00\u001b[0m\n",
            "\u001b[?25hRequirement already satisfied: decorator in /usr/local/lib/python3.10/dist-packages (from ipython->ipython-autotime) (4.4.2)\n",
            "Requirement already satisfied: pickleshare in /usr/local/lib/python3.10/dist-packages (from ipython->ipython-autotime) (0.7.5)\n",
            "Requirement already satisfied: traitlets>=4.2 in /usr/local/lib/python3.10/dist-packages (from ipython->ipython-autotime) (5.7.1)\n",
            "Requirement already satisfied: prompt-toolkit!=3.0.0,!=3.0.1,<3.1.0,>=2.0.0 in /usr/local/lib/python3.10/dist-packages (from ipython->ipython-autotime) (3.0.43)\n",
            "Requirement already satisfied: pygments in /usr/local/lib/python3.10/dist-packages (from ipython->ipython-autotime) (2.16.1)\n",
            "Requirement already satisfied: backcall in /usr/local/lib/python3.10/dist-packages (from ipython->ipython-autotime) (0.2.0)\n",
            "Requirement already satisfied: matplotlib-inline in /usr/local/lib/python3.10/dist-packages (from ipython->ipython-autotime) (0.1.7)\n",
            "Requirement already satisfied: pexpect>4.3 in /usr/local/lib/python3.10/dist-packages (from ipython->ipython-autotime) (4.9.0)\n",
            "Requirement already satisfied: parso<0.9.0,>=0.8.3 in /usr/local/lib/python3.10/dist-packages (from jedi>=0.16->ipython->ipython-autotime) (0.8.4)\n",
            "Requirement already satisfied: ptyprocess>=0.5 in /usr/local/lib/python3.10/dist-packages (from pexpect>4.3->ipython->ipython-autotime) (0.7.0)\n",
            "Requirement already satisfied: wcwidth in /usr/local/lib/python3.10/dist-packages (from prompt-toolkit!=3.0.0,!=3.0.1,<3.1.0,>=2.0.0->ipython->ipython-autotime) (0.2.13)\n",
            "Installing collected packages: jedi, ipython-autotime\n",
            "Successfully installed ipython-autotime-0.3.2 jedi-0.19.1\n",
            "time: 434 µs (started: 2024-04-28 00:45:02 +00:00)\n"
          ]
        }
      ],
      "source": [
        "!pip install ipython-autotime\n",
        "%load_ext autotime"
      ]
    },
    {
      "cell_type": "code",
      "source": [
        "import torch\n",
        "import torch.nn as nn\n",
        "import torch.optim as optim\n",
        "import numpy as np\n",
        "from sklearn.model_selection import train_test_split\n",
        "from torchsummary import summary"
      ],
      "metadata": {
        "colab": {
          "base_uri": "https://localhost:8080/"
        },
        "id": "t_xkI5CS1CQX",
        "outputId": "42dc3e79-de7f-4a4d-df96-0ac604d176f4"
      },
      "execution_count": 2,
      "outputs": [
        {
          "output_type": "stream",
          "name": "stdout",
          "text": [
            "time: 9.75 s (started: 2024-04-28 00:45:02 +00:00)\n"
          ]
        }
      ]
    },
    {
      "cell_type": "code",
      "source": [
        "import requests\n",
        "import torch\n",
        "from torch.utils.data import Dataset, DataLoader, random_split\n",
        "\n",
        "url = \"https://raw.githubusercontent.com/karpathy/char-rnn/master/data/tinyshakespeare/input.txt\"\n",
        "response = requests.get(url)\n",
        "text = response.text\n",
        "\n",
        "\n",
        "sequence_length = 50\n",
        "\n",
        "chars = sorted(list(set(text)))\n",
        "char_to_int = {ch: i for i, ch in enumerate(chars)}\n",
        "int_to_char = {i: ch for i, ch in enumerate(chars)}\n",
        "\n",
        "encoded_text = [char_to_int[ch] for ch in text]\n",
        "\n",
        "\n",
        "sequences = [encoded_text[i:i + sequence_length] for i in range(len(encoded_text) - sequence_length)]\n",
        "targets = [encoded_text[i + sequence_length] for i in range(len(encoded_text) - sequence_length)]\n",
        "\n",
        "sequences_tensor = torch.tensor(sequences, dtype=torch.long)\n",
        "targets_tensor = torch.tensor(targets, dtype=torch.long)\n",
        "\n",
        "class CharDataset(Dataset):\n",
        "    def __init__(self, sequences, targets):\n",
        "        self.sequences = sequences\n",
        "        self.targets = targets\n",
        "\n",
        "    def __len__(self):\n",
        "        return len(self.sequences)\n",
        "\n",
        "    def __getitem__(self, index):\n",
        "        return self.sequences[index], self.targets[index]\n",
        "\n",
        "dataset = CharDataset(sequences_tensor, targets_tensor)\n",
        "\n",
        "batch_size = 128\n",
        "train_size = int(0.8 * len(dataset))\n",
        "test_size = len(dataset) - train_size\n",
        "train_dataset, test_dataset = random_split(dataset, [train_size, test_size])\n",
        "\n",
        "train_loader = DataLoader(train_dataset, shuffle=True, batch_size=batch_size)\n",
        "test_loader = DataLoader(test_dataset, shuffle=False, batch_size=batch_size)\n"
      ],
      "metadata": {
        "colab": {
          "base_uri": "https://localhost:8080/"
        },
        "id": "mgzMq8C71MwR",
        "outputId": "dcc7e568-f096-454b-deb6-7445972792cb"
      },
      "execution_count": 3,
      "outputs": [
        {
          "output_type": "stream",
          "name": "stdout",
          "text": [
            "time: 15.3 s (started: 2024-04-28 00:45:12 +00:00)\n"
          ]
        }
      ]
    },
    {
      "cell_type": "code",
      "source": [
        "import torch.nn as nn\n",
        "\n",
        "class CharTransformer(nn.Module):\n",
        "    def __init__(self, vocab_size, emb_dim, num_classes, layers_count, heads_count):\n",
        "        super(CharTransformer, self).__init__()\n",
        "\n",
        "        self.embedding = nn.Embedding(vocab_size, emb_dim)\n",
        "        encoder_layer = nn.TransformerEncoderLayer(d_model=emb_dim, nhead=heads_count)\n",
        "        self.transformer_encoder = nn.TransformerEncoder(encoder_layer, num_layers=layers_count)\n",
        "        self.output_layer = nn.Linear(emb_dim, num_classes)\n",
        "\n",
        "    def forward(self, inputs):\n",
        "        embeddings = self.embedding(inputs)\n",
        "        encoder_outputs = self.transformer_encoder(embeddings)\n",
        "        final_output = self.output_layer(encoder_outputs[:, -1])\n",
        "        return final_output"
      ],
      "metadata": {
        "colab": {
          "base_uri": "https://localhost:8080/"
        },
        "id": "H3WPhZnF1SzJ",
        "outputId": "42892d73-a844-4e4e-d4bf-fe9df937995f"
      },
      "execution_count": 4,
      "outputs": [
        {
          "output_type": "stream",
          "name": "stdout",
          "text": [
            "time: 1.03 ms (started: 2024-04-28 00:45:27 +00:00)\n"
          ]
        }
      ]
    },
    {
      "cell_type": "code",
      "source": [
        "hidden_size = 512\n",
        "num_layers = 2\n",
        "num_heads = 2\n",
        "learning_rate = 0.001\n",
        "device = torch.device(\"cuda\" if torch.cuda.is_available() else \"cpu\")\n",
        "epochs = 10"
      ],
      "metadata": {
        "colab": {
          "base_uri": "https://localhost:8080/"
        },
        "id": "sG0fOfRC1V7R",
        "outputId": "4e339473-5816-4f99-f713-90ab57b4a271"
      },
      "execution_count": 5,
      "outputs": [
        {
          "output_type": "stream",
          "name": "stdout",
          "text": [
            "time: 50.2 ms (started: 2024-04-28 00:45:31 +00:00)\n"
          ]
        }
      ]
    },
    {
      "cell_type": "code",
      "source": [
        "device"
      ],
      "metadata": {
        "id": "I-v4yMKfK4Jy"
      },
      "execution_count": null,
      "outputs": []
    },
    {
      "cell_type": "code",
      "source": [
        "import torch.optim as optim\n",
        "import torch.nn as nn\n",
        "\n",
        "# Instantiate the model with specific configurations and send to compute device\n",
        "model = CharTransformer(vocab_size=len(chars), emb_dim=128, num_classes=len(chars),\n",
        "                        layers_count=3, heads_count=2).to(device)\n",
        "criterion = nn.CrossEntropyLoss()\n",
        "optimizer = optim.Adam(model.parameters(), lr=0.01)\n",
        "\n",
        "# Training and validation loop\n",
        "for epoch in range(10+1):\n",
        "    model.train()  # Set model to training mode\n",
        "    total_train_loss = 0\n",
        "\n",
        "    # Training phase\n",
        "    for batch_inputs, batch_targets in train_loader:\n",
        "        batch_inputs, batch_targets = batch_inputs.to(device), batch_targets.to(device)\n",
        "        optimizer.zero_grad()\n",
        "        train_outputs = model(batch_inputs)\n",
        "        train_loss = criterion(train_outputs, batch_targets)\n",
        "        train_loss.backward()\n",
        "        optimizer.step()\n",
        "        total_train_loss += train_loss.item() * batch_inputs.size(0)\n",
        "\n",
        "    average_train_loss = total_train_loss / len(train_loader.dataset)\n",
        "\n",
        "    # Validation phase\n",
        "    model.eval()  # Set model to evaluation mode\n",
        "    total_val_loss = 0\n",
        "    correct_predictions = 0\n",
        "    total_predictions = 0\n",
        "\n",
        "    with torch.no_grad():\n",
        "        for batch_inputs, batch_targets in test_loader:\n",
        "            batch_inputs, batch_targets = batch_inputs.to(device), batch_targets.to(device)\n",
        "            val_outputs = model(batch_inputs)\n",
        "            val_loss = criterion(val_outputs, batch_targets)\n",
        "            total_val_loss += val_loss.item() * batch_inputs.size(0)\n",
        "            _, predictions = torch.max(val_outputs, 1)\n",
        "            total_predictions += batch_targets.size(0)\n",
        "            correct_predictions += (predictions == batch_targets).sum().item()\n",
        "\n",
        "    average_val_loss = total_val_loss / len(test_loader.dataset)\n",
        "    validation_accuracy = correct_predictions / total_predictions\n",
        "\n",
        "    # Output training and validation results\n",
        "    if (epoch + 1) % 1 == 0:\n",
        "        print(f'Epoch {epoch}, Train Loss: {average_train_loss:.4f}, '\n",
        "              f'Validation Loss: {average_val_loss:.4f}, Validation Accuracy: {validation_accuracy:.4f}')\n"
      ],
      "metadata": {
        "colab": {
          "base_uri": "https://localhost:8080/"
        },
        "id": "ZRQt7trx1roz",
        "outputId": "b1bc1f16-0569-439b-f673-88bca498c32c"
      },
      "execution_count": 7,
      "outputs": [
        {
          "output_type": "stream",
          "name": "stderr",
          "text": [
            "/usr/local/lib/python3.10/dist-packages/torch/nn/modules/transformer.py:286: UserWarning: enable_nested_tensor is True, but self.use_nested_tensor is False because encoder_layer.self_attn.batch_first was not True(use batch_first for better inference performance)\n",
            "  warnings.warn(f\"enable_nested_tensor is True, but self.use_nested_tensor is False because {why_not_sparsity_fast_path}\")\n"
          ]
        },
        {
          "output_type": "stream",
          "name": "stdout",
          "text": [
            "Epoch 0, Train Loss: 3.3236, Validation Loss: 3.3237, Validation Accuracy: 0.1527\n",
            "Epoch 1, Train Loss: 3.3182, Validation Loss: 3.3190, Validation Accuracy: 0.1527\n",
            "Epoch 2, Train Loss: 3.3179, Validation Loss: 3.3170, Validation Accuracy: 0.1527\n",
            "Epoch 3, Train Loss: 3.3178, Validation Loss: 3.3193, Validation Accuracy: 0.1527\n",
            "Epoch 4, Train Loss: 3.3179, Validation Loss: 3.3269, Validation Accuracy: 0.1527\n",
            "Epoch 5, Train Loss: 3.3179, Validation Loss: 3.3263, Validation Accuracy: 0.1527\n",
            "Epoch 6, Train Loss: 3.3179, Validation Loss: 3.3197, Validation Accuracy: 0.1527\n",
            "Epoch 7, Train Loss: 3.3178, Validation Loss: 3.3205, Validation Accuracy: 0.1527\n",
            "Epoch 8, Train Loss: 3.3178, Validation Loss: 3.3205, Validation Accuracy: 0.1527\n",
            "Epoch 9, Train Loss: 3.3180, Validation Loss: 3.3236, Validation Accuracy: 0.1527\n",
            "Epoch 10, Train Loss: 3.3180, Validation Loss: 3.3189, Validation Accuracy: 0.1527\n",
            "time: 42min 50s (started: 2024-04-28 00:46:01 +00:00)\n"
          ]
        }
      ]
    },
    {
      "cell_type": "code",
      "source": [
        "\n",
        "!pip install torchinfo\n",
        "import torchinfo\n"
      ],
      "metadata": {
        "id": "FxNNukhF1u2Y",
        "colab": {
          "base_uri": "https://localhost:8080/"
        },
        "outputId": "7edc3e2b-1b2a-4bc9-94d7-aa913a816378"
      },
      "execution_count": 8,
      "outputs": [
        {
          "output_type": "stream",
          "name": "stdout",
          "text": [
            "Collecting torchinfo\n",
            "  Downloading torchinfo-1.8.0-py3-none-any.whl (23 kB)\n",
            "Installing collected packages: torchinfo\n",
            "Successfully installed torchinfo-1.8.0\n",
            "time: 5.83 s (started: 2024-04-28 01:28:56 +00:00)\n"
          ]
        }
      ]
    },
    {
      "cell_type": "code",
      "source": [
        "\n",
        "dataiter = iter(train_loader)\n",
        "inputs, labels = next(dataiter)  # Get one batch of data\n",
        "\n",
        "model.to(inputs.device)\n",
        "summary = torchinfo.summary(model, input_data=(inputs,))\n",
        "print(summary)\n"
      ],
      "metadata": {
        "id": "uYM8ByBX1wyh",
        "colab": {
          "base_uri": "https://localhost:8080/"
        },
        "outputId": "9af10f6f-670e-4bc2-a18d-ca574070505e"
      },
      "execution_count": 9,
      "outputs": [
        {
          "output_type": "stream",
          "name": "stdout",
          "text": [
            "===============================================================================================\n",
            "Layer (type:depth-idx)                        Output Shape              Param #\n",
            "===============================================================================================\n",
            "CharTransformer                               [128, 65]                 --\n",
            "├─Embedding: 1-1                              [128, 50, 128]            8,320\n",
            "├─TransformerEncoder: 1-2                     [128, 50, 128]            --\n",
            "│    └─ModuleList: 2-1                        --                        --\n",
            "│    │    └─TransformerEncoderLayer: 3-1      [128, 50, 128]            593,024\n",
            "│    │    └─TransformerEncoderLayer: 3-2      [128, 50, 128]            593,024\n",
            "│    │    └─TransformerEncoderLayer: 3-3      [128, 50, 128]            593,024\n",
            "├─Linear: 1-3                                 [128, 65]                 8,385\n",
            "===============================================================================================\n",
            "Total params: 1,795,777\n",
            "Trainable params: 1,795,777\n",
            "Non-trainable params: 0\n",
            "Total mult-adds (M): 204.50\n",
            "===============================================================================================\n",
            "Input size (MB): 0.05\n",
            "Forward/backward pass size (MB): 380.18\n",
            "Params size (MB): 6.39\n",
            "Estimated Total Size (MB): 386.62\n",
            "===============================================================================================\n",
            "time: 950 ms (started: 2024-04-28 01:29:04 +00:00)\n"
          ]
        }
      ]
    },
    {
      "cell_type": "code",
      "source": [],
      "metadata": {
        "id": "z8sto4rs1ynT"
      },
      "execution_count": null,
      "outputs": []
    }
  ]
}