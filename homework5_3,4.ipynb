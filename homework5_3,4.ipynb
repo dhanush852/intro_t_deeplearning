{
  "cells": [
    {
      "cell_type": "markdown",
      "metadata": {
        "id": "view-in-github",
        "colab_type": "text"
      },
      "source": [
        "<a href=\"https://colab.research.google.com/github/dhanush852/intro_to_deeplearning/blob/main/homework5_3%2C4.ipynb\" target=\"_parent\"><img src=\"https://colab.research.google.com/assets/colab-badge.svg\" alt=\"Open In Colab\"/></a>"
      ]
    },
    {
      "cell_type": "code",
      "execution_count": 1,
      "metadata": {
        "id": "1XI6IF73kzsq",
        "colab": {
          "base_uri": "https://localhost:8080/"
        },
        "outputId": "cdc583fe-956d-4bd2-9add-ca7d5d3f38d3"
      },
      "outputs": [
        {
          "output_type": "stream",
          "name": "stdout",
          "text": [
            "Collecting ipython-autotime\n",
            "  Downloading ipython_autotime-0.3.2-py2.py3-none-any.whl (7.0 kB)\n",
            "Requirement already satisfied: ipython in /usr/local/lib/python3.10/dist-packages (from ipython-autotime) (7.34.0)\n",
            "Requirement already satisfied: setuptools>=18.5 in /usr/local/lib/python3.10/dist-packages (from ipython->ipython-autotime) (67.7.2)\n",
            "Collecting jedi>=0.16 (from ipython->ipython-autotime)\n",
            "  Downloading jedi-0.19.1-py2.py3-none-any.whl (1.6 MB)\n",
            "\u001b[2K     \u001b[90m━━━━━━━━━━━━━━━━━━━━━━━━━━━━━━━━━━━━━━━━\u001b[0m \u001b[32m1.6/1.6 MB\u001b[0m \u001b[31m7.9 MB/s\u001b[0m eta \u001b[36m0:00:00\u001b[0m\n",
            "\u001b[?25hRequirement already satisfied: decorator in /usr/local/lib/python3.10/dist-packages (from ipython->ipython-autotime) (4.4.2)\n",
            "Requirement already satisfied: pickleshare in /usr/local/lib/python3.10/dist-packages (from ipython->ipython-autotime) (0.7.5)\n",
            "Requirement already satisfied: traitlets>=4.2 in /usr/local/lib/python3.10/dist-packages (from ipython->ipython-autotime) (5.7.1)\n",
            "Requirement already satisfied: prompt-toolkit!=3.0.0,!=3.0.1,<3.1.0,>=2.0.0 in /usr/local/lib/python3.10/dist-packages (from ipython->ipython-autotime) (3.0.43)\n",
            "Requirement already satisfied: pygments in /usr/local/lib/python3.10/dist-packages (from ipython->ipython-autotime) (2.16.1)\n",
            "Requirement already satisfied: backcall in /usr/local/lib/python3.10/dist-packages (from ipython->ipython-autotime) (0.2.0)\n",
            "Requirement already satisfied: matplotlib-inline in /usr/local/lib/python3.10/dist-packages (from ipython->ipython-autotime) (0.1.7)\n",
            "Requirement already satisfied: pexpect>4.3 in /usr/local/lib/python3.10/dist-packages (from ipython->ipython-autotime) (4.9.0)\n",
            "Requirement already satisfied: parso<0.9.0,>=0.8.3 in /usr/local/lib/python3.10/dist-packages (from jedi>=0.16->ipython->ipython-autotime) (0.8.4)\n",
            "Requirement already satisfied: ptyprocess>=0.5 in /usr/local/lib/python3.10/dist-packages (from pexpect>4.3->ipython->ipython-autotime) (0.7.0)\n",
            "Requirement already satisfied: wcwidth in /usr/local/lib/python3.10/dist-packages (from prompt-toolkit!=3.0.0,!=3.0.1,<3.1.0,>=2.0.0->ipython->ipython-autotime) (0.2.13)\n",
            "Installing collected packages: jedi, ipython-autotime\n",
            "Successfully installed ipython-autotime-0.3.2 jedi-0.19.1\n",
            "time: 362 µs (started: 2024-04-27 23:18:44 +00:00)\n"
          ]
        }
      ],
      "source": [
        "\n",
        "!pip install ipython-autotime\n",
        "%load_ext autotime"
      ]
    },
    {
      "cell_type": "code",
      "execution_count": 2,
      "metadata": {
        "id": "fq0a4DN8mTJ1",
        "colab": {
          "base_uri": "https://localhost:8080/"
        },
        "outputId": "e110d9b4-f0e5-407a-f88b-2c655d3b9c1a"
      },
      "outputs": [
        {
          "output_type": "stream",
          "name": "stdout",
          "text": [
            "time: 5.89 s (started: 2024-04-27 23:18:44 +00:00)\n"
          ]
        }
      ],
      "source": [
        "import torch\n",
        "from torch.utils.data import Dataset, DataLoader\n",
        "import torch\n",
        "import torch.nn as nn\n",
        "import torch.optim as optim\n",
        "from torch.utils.data import DataLoader, Dataset\n",
        "import random\n",
        "from torch.nn.utils.rnn import pad_sequence\n"
      ]
    },
    {
      "cell_type": "code",
      "execution_count": 3,
      "metadata": {
        "id": "qBKXoovMmVcm",
        "colab": {
          "base_uri": "https://localhost:8080/"
        },
        "outputId": "35d20e03-63eb-469f-e149-27048865709c"
      },
      "outputs": [
        {
          "output_type": "execute_result",
          "data": {
            "text/plain": [
              "device(type='cuda')"
            ]
          },
          "metadata": {},
          "execution_count": 3
        },
        {
          "output_type": "stream",
          "name": "stdout",
          "text": [
            "time: 96.4 ms (started: 2024-04-27 23:18:50 +00:00)\n"
          ]
        }
      ],
      "source": [
        "device = torch.device(\"cuda\" if torch.cuda.is_available() else \"cpu\")\n",
        "device\n"
      ]
    },
    {
      "cell_type": "code",
      "execution_count": 4,
      "metadata": {
        "id": "lAkQsKoBmZBx",
        "colab": {
          "base_uri": "https://localhost:8080/"
        },
        "outputId": "bef11de7-ac18-4677-db85-a11f2e547622"
      },
      "outputs": [
        {
          "output_type": "stream",
          "name": "stdout",
          "text": [
            "time: 1.48 ms (started: 2024-04-27 23:18:50 +00:00)\n"
          ]
        }
      ],
      "source": [
        "english_to_french = [\n",
        "    (\"I am cold\", \"J'ai froid\"),\n",
        "\n",
        "    (\"You are tired\", \"Tu es fatigué\"),\n",
        "\n",
        "    (\"He is hungry\", \"Il a faim\"),\n",
        "\n",
        "    (\"She is happy\", \"Elle est heureuse\"),\n",
        "\n",
        "    (\"We are friends\", \"Nous sommes amis\"),\n",
        "\n",
        "    (\"They are students\", \"Ils sont étudiants\"),\n",
        "\n",
        "    (\"The cat is sleeping\", \"Le chat dort\"),\n",
        "\n",
        "    (\"The sun is shining\", \"Le soleil brille\"),\n",
        "\n",
        "    (\"We love music\", \"Nous aimons la musique\"),\n",
        "\n",
        "    (\"She speaks French fluently\", \"Elle parle français couramment\"),\n",
        "\n",
        "    (\"He enjoys reading books\", \"Il aime lire des livres\"),\n",
        "\n",
        "    (\"They play soccer every weekend\", \"Ils jouent au football chaque week-end\"),\n",
        "\n",
        "    (\"The movie starts at 7 PM\", \"Le film commence à 19 heures\"),\n",
        "\n",
        "    (\"She wears a red dress\", \"Elle porte une robe rouge\"),\n",
        "\n",
        "    (\"We cook dinner together\", \"Nous cuisinons le dîner ensemble\"),\n",
        "\n",
        "    (\"He drives a blue car\", \"Il conduit une voiture bleue\"),\n",
        "\n",
        "    (\"They visit museums often\", \"Ils visitent souvent des musées\"),\n",
        "\n",
        "    (\"The restaurant serves delicious food\", \"Le restaurant sert une délicieuse cuisine\"),\n",
        "\n",
        "    (\"She studies mathematics at university\", \"Elle étudie les mathématiques à l'université\"),\n",
        "\n",
        "    (\"We watch movies on Fridays\", \"Nous regardons des films le vendredi\"),\n",
        "\n",
        "    (\"He listens to music while jogging\", \"Il écoute de la musique en faisant du jogging\"),\n",
        "\n",
        "    (\"They travel around the world\", \"Ils voyagent autour du monde\"),\n",
        "\n",
        "    (\"The book is on the table\", \"Le livre est sur la table\"),\n",
        "\n",
        "    (\"She dances gracefully\", \"Elle danse avec grâce\"),\n",
        "\n",
        "    (\"We celebrate birthdays with cake\", \"Nous célébrons les anniversaires avec un gâteau\"),\n",
        "\n",
        "    (\"He works hard every day\", \"Il travaille dur tous les jours\"),\n",
        "\n",
        "    (\"They speak different languages\", \"Ils parlent différentes langues\"),\n",
        "\n",
        "    (\"The flowers bloom in spring\", \"Les fleurs fleurissent au printemps\"),\n",
        "\n",
        "    (\"She writes poetry in her free time\", \"Elle écrit de la poésie pendant son temps libre\"),\n",
        "\n",
        "    (\"We learn something new every day\", \"Nous apprenons quelque chose de nouveau chaque jour\"),\n",
        "\n",
        "    (\"The dog barks loudly\", \"Le chien aboie bruyamment\"),\n",
        "\n",
        "    (\"He sings beautifully\", \"Il chante magnifiquement\"),\n",
        "\n",
        "    (\"They swim in the pool\", \"Ils nagent dans la piscine\"),\n",
        "\n",
        "    (\"The birds chirp in the morning\", \"Les oiseaux gazouillent le matin\"),\n",
        "\n",
        "    (\"She teaches English at school\", \"Elle enseigne l'anglais à l'école\"),\n",
        "\n",
        "    (\"We eat breakfast together\", \"Nous prenons le petit déjeuner ensemble\"),\n",
        "\n",
        "    (\"He paints landscapes\", \"Il peint des paysages\"),\n",
        "\n",
        "    (\"They laugh at the joke\", \"Ils rient de la blague\"),\n",
        "\n",
        "    (\"The clock ticks loudly\", \"L'horloge tic-tac bruyamment\"),\n",
        "\n",
        "    (\"She runs in the park\", \"Elle court dans le parc\"),\n",
        "\n",
        "    (\"We travel by train\", \"Nous voyageons en train\"),\n",
        "\n",
        "    (\"He writes a letter\", \"Il écrit une lettre\"),\n",
        "\n",
        "    (\"They read books at the library\", \"Ils lisent des livres à la bibliothèque\"),\n",
        "\n",
        "    (\"The baby cries\", \"Le bébé pleure\"),\n",
        "\n",
        "    (\"She studies hard for exams\", \"Elle étudie dur pour les examens\"),\n",
        "\n",
        "    (\"We plant flowers in the garden\", \"Nous plantons des fleurs dans le jardin\"),\n",
        "\n",
        "    (\"He fixes the car\", \"Il répare la voiture\"),\n",
        "\n",
        "    (\"They drink coffee in the morning\", \"Ils boivent du café le matin\"),\n",
        "\n",
        "    (\"The sun sets in the evening\", \"Le soleil se couche le soir\"),\n",
        "\n",
        "    (\"She dances at the party\", \"Elle danse à la fête\"),\n",
        "\n",
        "    (\"We play music at the concert\", \"Nous jouons de la musique au concert\"),\n",
        "\n",
        "    (\"He cooks dinner for his family\", \"Il cuisine le dîner pour sa famille\"),\n",
        "\n",
        "    (\"They study French grammar\", \"Ils étudient la grammaire française\"),\n",
        "\n",
        "    (\"The rain falls gently\", \"La pluie tombe doucement\"),\n",
        "\n",
        "    (\"She sings a song\", \"Elle chante une chanson\"),\n",
        "\n",
        "    (\"We watch a movie together\", \"Nous regardons un film ensemble\"),\n",
        "\n",
        "    (\"He sleeps deeply\", \"Il dort profondément\"),\n",
        "\n",
        "    (\"They travel to Paris\", \"Ils voyagent à Paris\"),\n",
        "\n",
        "    (\"The children play in the park\", \"Les enfants jouent dans le parc\"),\n",
        "\n",
        "    (\"She walks along the beach\", \"Elle se promène le long de la plage\"),\n",
        "\n",
        "    (\"We talk on the phone\", \"Nous parlons au téléphone\"),\n",
        "\n",
        "    (\"He waits for the bus\", \"Il attend le bus\"),\n",
        "\n",
        "    (\"They visit the Eiffel Tower\", \"Ils visitent la tour Eiffel\"),\n",
        "\n",
        "    (\"The stars twinkle at night\", \"Les étoiles scintillent la nuit\"),\n",
        "\n",
        "    (\"She dreams of flying\", \"Elle rêve de voler\"),\n",
        "\n",
        "    (\"We work in the office\", \"Nous travaillons au bureau\"),\n",
        "\n",
        "    (\"He studies history\", \"Il étudie l'histoire\"),\n",
        "\n",
        "    (\"They listen to the radio\", \"Ils écoutent la radio\"),\n",
        "\n",
        "    (\"The wind blows gently\", \"Le vent souffle doucement\"),\n",
        "\n",
        "    (\"She swims in the ocean\", \"Elle nage dans l'océan\"),\n",
        "\n",
        "    (\"We dance at the wedding\", \"Nous dansons au mariage\"),\n",
        "\n",
        "    (\"He climbs the mountain\", \"Il gravit la montagne\"),\n",
        "\n",
        "    (\"They hike in the forest\", \"Ils font de la randonnée dans la forêt\"),\n",
        "\n",
        "    (\"The cat meows loudly\", \"Le chat miaule bruyamment\"),\n",
        "\n",
        "    (\"She paints a picture\", \"Elle peint un tableau\"),\n",
        "\n",
        "    (\"We build a sandcastle\", \"Nous construisons un château de sable\"),\n",
        "\n",
        "    (\"He sings in the choir\", \"Il chante dans le chœur\")\n",
        "]"
      ]
    },
    {
      "cell_type": "code",
      "execution_count": 5,
      "metadata": {
        "id": "IP5ok4uemf71",
        "colab": {
          "base_uri": "https://localhost:8080/"
        },
        "outputId": "14ca7119-5f83-458e-c2c5-fe88ff5a6a74"
      },
      "outputs": [
        {
          "output_type": "stream",
          "name": "stdout",
          "text": [
            "time: 888 µs (started: 2024-04-27 23:18:50 +00:00)\n"
          ]
        }
      ],
      "source": [
        "# Assume english_to_french is a predefined list of tuples (English, French)\n",
        "english_to_french = [(\"hello\", \"bonjour\"), (\"thank you\", \"merci\")]  # Example initialization\n",
        "\n",
        "# Create a French to English list by reversing the pairs in english_to_french\n",
        "french_to_english = [(french, english) for english, french in english_to_french]\n",
        "\n",
        "# Initialize a dictionary for indexing words, starting with special tokens\n",
        "word_to_index = {\"SOS\": 0, \"EOS\": 1}\n",
        "\n",
        "# Populate the dictionary with indices for each unique word in the dataset\n",
        "for english_sentence, french_sentence in english_to_french:\n",
        "    for word in english_sentence.split() + french_sentence.split():\n",
        "        if word not in word_to_index:\n",
        "            word_to_index[word] = len(word_to_index)\n"
      ]
    },
    {
      "cell_type": "code",
      "execution_count": 6,
      "metadata": {
        "id": "OQR13_9Km6KE",
        "colab": {
          "base_uri": "https://localhost:8080/"
        },
        "outputId": "a6c228f4-570e-4a3e-f8eb-4f3700c62169"
      },
      "outputs": [
        {
          "output_type": "stream",
          "name": "stdout",
          "text": [
            "time: 4.07 ms (started: 2024-04-27 23:18:50 +00:00)\n"
          ]
        }
      ],
      "source": [
        "import torch\n",
        "from torch import nn\n",
        "from torch.utils.data import Dataset\n",
        "from torch.nn.utils.rnn import pad_sequence\n",
        "\n",
        "# Dataset class for managing translation pairs\n",
        "class TranslationDataset(Dataset):\n",
        "    def __init__(self, translation_pairs, word_to_index):\n",
        "        self.translation_pairs = translation_pairs\n",
        "        self.word_to_index = word_to_index\n",
        "\n",
        "    def __len__(self):\n",
        "        return len(self.translation_pairs)\n",
        "\n",
        "    def __getitem__(self, idx):\n",
        "        french_sentence, english_sentence = self.translation_pairs[idx]\n",
        "        input_indices = [self.word_to_index[word] for word in french_sentence.split()] + [self.word_to_index[\"EOS\"]]\n",
        "        target_indices = [self.word_to_index[word] for word in english_sentence.split()] + [self.word_to_index[\"EOS\"]]\n",
        "        return (torch.tensor(input_indices, dtype=torch.long), torch.tensor(target_indices, dtype=torch.long))\n",
        "\n",
        "# Function to collate data samples into batch tensors\n",
        "def collate_batch(batch):\n",
        "    inputs, targets = zip(*batch)\n",
        "    inputs_padded = pad_sequence(inputs, batch_first=True, padding_value=word_to_index[\"EOS\"])\n",
        "    targets_padded = pad_sequence(targets, batch_first=True, padding_value=word_to_index[\"EOS\"])\n",
        "    return inputs_padded, targets_padded\n",
        "\n",
        "# Transformer model for sequence-to-sequence learning\n",
        "class Transformer(nn.Module):\n",
        "    def __init__(self, vocab_size, hidden_size, num_layers = 4, num_heads = 8, dropout = 0.2):\n",
        "        super(Transformer, self).__init__()\n",
        "        self.embedding = nn.Embedding(vocab_size, hidden_size)\n",
        "        self.transformer = nn.Transformer(\n",
        "            d_model=hidden_size,\n",
        "            nhead=num_heads,\n",
        "            num_encoder_layers=num_layers,\n",
        "            num_decoder_layers=num_layers,\n",
        "            dim_feedforward=hidden_size * 4,\n",
        "            dropout=dropout,\n",
        "            batch_first=True\n",
        "        )\n",
        "        self.output_layer = nn.Linear(hidden_size, vocab_size)\n",
        "\n",
        "    def forward(self, src, tgt):\n",
        "        src_embedded = self.embedding(src)\n",
        "        tgt_embedded = self.embedding(tgt)\n",
        "        tgt_mask = self.transformer.generate_square_subsequent_mask(tgt.size(1)).to(tgt.device)\n",
        "        transformed_output = self.transformer(src_embedded, tgt_embedded, tgt_mask=tgt_mask)\n",
        "        return self.output_layer(transformed_output)\n",
        "\n"
      ]
    },
    {
      "cell_type": "code",
      "execution_count": 7,
      "metadata": {
        "id": "RBnNDvNHnTok",
        "colab": {
          "base_uri": "https://localhost:8080/"
        },
        "outputId": "e1c44084-e7b1-439d-9d2a-8505c63c36a6"
      },
      "outputs": [
        {
          "output_type": "stream",
          "name": "stdout",
          "text": [
            "time: 715 µs (started: 2024-04-27 23:18:50 +00:00)\n"
          ]
        }
      ],
      "source": [
        "device = torch.device(\"cuda\" if torch.cuda.is_available() else \"cpu\")\n",
        "input_size = len(word_to_index)\n",
        "embed_size = 128\n",
        "num_layers = 4\n",
        "num_heads = 8\n",
        "dropout = 0.2\n",
        "epochs = 60"
      ]
    },
    {
      "cell_type": "code",
      "execution_count": 8,
      "metadata": {
        "id": "etf7IqVhnZfn",
        "colab": {
          "base_uri": "https://localhost:8080/"
        },
        "outputId": "63f91b34-101a-4c29-efec-1cf344db44b3"
      },
      "outputs": [
        {
          "output_type": "stream",
          "name": "stdout",
          "text": [
            "Epoch 0: Loss = nan, Train Accuracy = 0.0000, Val Loss = nan, Val Accuracy = 0.0000\n",
            "Epoch 10: Loss = nan, Train Accuracy = 0.0000, Val Loss = nan, Val Accuracy = 0.0000\n",
            "Epoch 20: Loss = nan, Train Accuracy = 0.0000, Val Loss = nan, Val Accuracy = 0.0000\n",
            "Epoch 30: Loss = nan, Train Accuracy = 0.0000, Val Loss = nan, Val Accuracy = 0.0000\n",
            "Epoch 40: Loss = nan, Train Accuracy = 0.0000, Val Loss = nan, Val Accuracy = 0.0000\n",
            "Epoch 50: Loss = nan, Train Accuracy = 0.0000, Val Loss = nan, Val Accuracy = 0.0000\n",
            "Epoch 60: Loss = nan, Train Accuracy = 0.0000, Val Loss = nan, Val Accuracy = 0.0000\n",
            "time: 10.5 s (started: 2024-04-27 23:18:50 +00:00)\n"
          ]
        }
      ],
      "source": [
        "model = Transformer(input_size, embed_size).to(device)\n",
        "optimizer = optim.Adam(model.parameters(), lr=0.0005)\n",
        "loss_function = nn.CrossEntropyLoss(ignore_index=word_to_index[\"EOS\"])\n",
        "\n",
        "dataset = TranslationDataset(english_to_french, word_to_index)\n",
        "translation_loader = DataLoader(dataset, batch_size=32, shuffle=True, collate_fn= collate_batch)\n",
        "\n",
        "for epoch_num in range(epochs + 1):\n",
        "    model.train()\n",
        "\n",
        "    total_train_loss = 0\n",
        "    correct_predictions = 0\n",
        "    total_predictions = 0\n",
        "\n",
        "    for english_tensor, french_tensor in translation_loader:\n",
        "        english_tensor = english_tensor.to(device)\n",
        "        french_tensor = french_tensor.to(device)\n",
        "\n",
        "        optimizer.zero_grad()\n",
        "        output = model(english_tensor, french_tensor[:, :-1])\n",
        "        output_flat = output.view(-1, output.size(-1))\n",
        "        french_target_flat = french_tensor[:, 1:].contiguous().view(-1)\n",
        "\n",
        "        valid_french_tokens = french_target_flat != 1\n",
        "        loss = loss_function(output_flat[valid_french_tokens], french_target_flat[valid_french_tokens])\n",
        "        loss.backward()\n",
        "        optimizer.step()\n",
        "\n",
        "        total_train_loss += loss.item()\n",
        "        _, predicted = torch.max(output_flat, 1)\n",
        "        valid_predictions = (predicted == french_target_flat) & valid_french_tokens\n",
        "        correct_predictions += valid_predictions.sum().item()\n",
        "        total_predictions += valid_french_tokens.sum().item()\n",
        "\n",
        "    mean_train_loss = total_train_loss / len(translation_loader)\n",
        "    training_accuracy = correct_predictions / total_predictions if total_predictions > 0 else 0\n",
        "\n",
        "    model.eval()\n",
        "    total_eval_loss = 0\n",
        "    eval_correct = 0\n",
        "    eval_total = 0\n",
        "    with torch.no_grad():\n",
        "        for english_tensor, french_tensor in translation_loader:\n",
        "            english_tensor = english_tensor.to(device)\n",
        "            french_tensor = french_tensor.to(device)\n",
        "\n",
        "            output = model(english_tensor, french_tensor[:, :-1])\n",
        "            output_flat = output.view(-1, output.size(-1))\n",
        "            french_target_flat = french_tensor[:, 1:].contiguous().view(-1)\n",
        "\n",
        "            valid_french_tokens = french_target_flat != 1\n",
        "            loss = loss_function(output_flat[valid_french_tokens], french_target_flat[valid_french_tokens])\n",
        "\n",
        "            total_eval_loss += loss.item()\n",
        "\n",
        "            _, predicted = torch.max(output_flat, 1)\n",
        "            valid_predictions = (predicted == french_target_flat) & valid_french_tokens\n",
        "            eval_correct += valid_predictions.sum().item()\n",
        "            eval_total += valid_french_tokens.sum().item()\n",
        "\n",
        "    mean_eval_loss = total_eval_loss / len(translation_loader)\n",
        "    evaluation_accuracy = eval_correct / eval_total if eval_total > 0 else 0\n",
        "    if epoch_num % 10 == 0:\n",
        "        print(f'Epoch {epoch_num}: Loss = {mean_train_loss:.4f}, Train Accuracy = {training_accuracy:.4f}, '\n",
        "              f'Val Loss = {mean_eval_loss:.4f}, Val Accuracy = {evaluation_accuracy:.4f}')"
      ]
    },
    {
      "cell_type": "code",
      "execution_count": 9,
      "metadata": {
        "id": "U8Viws9tpJVL",
        "colab": {
          "base_uri": "https://localhost:8080/",
          "height": 53
        },
        "outputId": "6147fcf9-4db4-470b-cd20-54d7f8858eb4"
      },
      "outputs": [
        {
          "output_type": "execute_result",
          "data": {
            "text/plain": [
              "'bonjour bonjour'"
            ],
            "application/vnd.google.colaboratory.intrinsic+json": {
              "type": "string"
            }
          },
          "metadata": {},
          "execution_count": 9
        },
        {
          "output_type": "stream",
          "name": "stdout",
          "text": [
            "time: 140 ms (started: 2024-04-27 23:19:01 +00:00)\n"
          ]
        }
      ],
      "source": [
        "sentence = \"You are tired\"\n",
        "\n",
        "# Ensure the model is in evaluation mode\n",
        "model.eval()\n",
        "\n",
        "# Tokenize the sentence and convert each word to its corresponding index, handling unknown words\n",
        "input_indices = [word_to_index.get(word, word_to_index[\"EOS\"]) for word in sentence.split()]\n",
        "input_tensor = torch.tensor(input_indices).unsqueeze(0).to(device)\n",
        "\n",
        "# Start the output sequence with the 'SOS' token\n",
        "output_indices = [word_to_index['SOS']]\n",
        "\n",
        "# Generate output words one by one\n",
        "for _ in range(len(input_indices)):\n",
        "    # Prepare the current output sequence as input for the model\n",
        "    output_tensor = torch.tensor(output_indices).unsqueeze(0).to(device)\n",
        "\n",
        "    # Obtain model predictions\n",
        "    with torch.no_grad():\n",
        "        predictions = model(input_tensor, output_tensor)\n",
        "\n",
        "    # Determine the predicted index (highest probability in the last position)\n",
        "    predicted_index = predictions[0, -1, :].argmax(0).item()\n",
        "\n",
        "    # Break if the model predicts the 'EOS' token\n",
        "    if predicted_index == word_to_index['EOS']:\n",
        "        break\n",
        "\n",
        "    # Append the predicted index to the output sequence\n",
        "    output_indices.append(predicted_index)\n",
        "\n",
        "# Map indices back to words, skipping the 'SOS' token for the final sentence\n",
        "index_to_word = {index: word for word, index in word_to_index.items()}\n",
        "translated_sentence = ' '.join(index_to_word[idx] for idx in output_indices if idx != word_to_index['SOS'])\n",
        "\n",
        "translated_sentence\n"
      ]
    },
    {
      "cell_type": "markdown",
      "metadata": {
        "id": "gOdKVna7rKmn"
      },
      "source": [
        "question 4"
      ]
    },
    {
      "cell_type": "code",
      "execution_count": 10,
      "metadata": {
        "id": "Wp6XjYLgqi0Y",
        "colab": {
          "base_uri": "https://localhost:8080/"
        },
        "outputId": "f66a8b9d-50f0-4230-b344-e7e1455c0393"
      },
      "outputs": [
        {
          "output_type": "stream",
          "name": "stdout",
          "text": [
            "time: 816 µs (started: 2024-04-27 23:19:01 +00:00)\n"
          ]
        }
      ],
      "source": [
        "# Assume english_to_french is defined elsewhere\n",
        "french_to_english = [(french, english) for english, french in english_to_french]\n",
        "word_to_index = {\"SOS\": 0, \"EOS\": 1}\n",
        "for eng, fre in english_to_french:\n",
        "    for word in eng.split() + fre.split():\n",
        "        if word not in word_to_index:\n",
        "            word_to_index[word] = len(word_to_index)"
      ]
    },
    {
      "cell_type": "code",
      "execution_count": 11,
      "metadata": {
        "id": "CIe0vrUMrsfX",
        "colab": {
          "base_uri": "https://localhost:8080/"
        },
        "outputId": "5409414f-bece-47ee-a19e-49b3ac24bcdc"
      },
      "outputs": [
        {
          "output_type": "stream",
          "name": "stdout",
          "text": [
            "time: 1.28 ms (started: 2024-04-27 23:19:01 +00:00)\n"
          ]
        }
      ],
      "source": [
        "class TranslationDataset(Dataset):\n",
        "    def __init__(self, dataset, word_to_index):\n",
        "        self.dataset = dataset\n",
        "        self.word_to_index = word_to_index\n",
        "\n",
        "    def __len__(self):\n",
        "        return len(self.dataset)\n",
        "\n",
        "    def __getitem__(self, idx):\n",
        "        french_sentence, english_sentence = self.dataset[idx]\n",
        "        input_indices = [self.word_to_index[word] for word in french_sentence.split()] + [word_to_index[\"EOS\"]]\n",
        "        target_indices = [self.word_to_index[word] for word in english_sentence.split()] + [word_to_index[\"EOS\"]]\n",
        "        return torch.tensor(input_indices, dtype=torch.long), torch.tensor(target_indices, dtype=torch.long)\n",
        "\n",
        "def collate_batch(batch):\n",
        "    input_tensors, target_tensors = zip(*batch)\n",
        "    input_tensors_padded = pad_sequence(input_tensors, batch_first=True, padding_value=word_to_index[\"EOS\"])\n",
        "    target_tensors_padded = pad_sequence(target_tensors, batch_first=True, padding_value=word_to_index[\"EOS\"])\n",
        "    return input_tensors_padded, target_tensors_padded\n",
        "\n",
        "# Transformer Model\n",
        "class Transformer(nn.Module):\n",
        "    def __init__(self, vocab_size, hidden_size, num_layers = 4, num_heads = 8, dropout = 0.2):\n",
        "        super(Transformer, self).__init__()\n",
        "        self.embedding = nn.Embedding(vocab_size, hidden_size)\n",
        "        self.transformer = nn.Transformer(\n",
        "            d_model=hidden_size,\n",
        "            nhead=num_heads,\n",
        "            num_encoder_layers=num_layers,\n",
        "            num_decoder_layers=num_layers,\n",
        "            dim_feedforward=hidden_size * 4,\n",
        "            dropout=dropout,\n",
        "            batch_first=True\n",
        "        )\n",
        "        self.fc_out = nn.Linear(hidden_size, vocab_size)\n",
        "\n",
        "    def forward(self, src, tgt):\n",
        "        src = self.embedding(src)\n",
        "        tgt = self.embedding(tgt)\n",
        "        tgt_mask = self.transformer.generate_square_subsequent_mask(tgt.size(1)).to(tgt.device)\n",
        "        output = self.transformer(src, tgt, tgt_mask=tgt_mask)\n",
        "        return self.fc_out(output)"
      ]
    },
    {
      "cell_type": "code",
      "execution_count": 12,
      "metadata": {
        "id": "cU1QoUldsOAJ",
        "colab": {
          "base_uri": "https://localhost:8080/"
        },
        "outputId": "53635d13-1de4-4642-e53f-28c7bfa6da12"
      },
      "outputs": [
        {
          "output_type": "stream",
          "name": "stdout",
          "text": [
            "time: 636 µs (started: 2024-04-27 23:19:01 +00:00)\n"
          ]
        }
      ],
      "source": [
        "device = torch.device(\"cuda\" if torch.cuda.is_available() else \"cpu\")\n",
        "input_size = len(word_to_index)\n",
        "embed_size = 128\n",
        "num_layers = 4\n",
        "num_heads = 8\n",
        "dropout = 0.2\n",
        "epochs = 60"
      ]
    },
    {
      "cell_type": "code",
      "execution_count": 17,
      "metadata": {
        "id": "oBeRp1m7spFP",
        "colab": {
          "base_uri": "https://localhost:8080/"
        },
        "outputId": "89f9a727-5a39-4002-d014-e822131732a0"
      },
      "outputs": [
        {
          "output_type": "stream",
          "name": "stdout",
          "text": [
            "Epoch 0: Loss = 2.6046, Train Accuracy = 0.0000, Val Loss = 1.0917, Val Accuracy = 1.0000\n",
            "Epoch 10: Loss = 0.0358, Train Accuracy = 1.0000, Val Loss = 0.0143, Val Accuracy = 1.0000\n",
            "Epoch 20: Loss = 0.0171, Train Accuracy = 1.0000, Val Loss = 0.0067, Val Accuracy = 1.0000\n",
            "Epoch 30: Loss = 0.0089, Train Accuracy = 1.0000, Val Loss = 0.0048, Val Accuracy = 1.0000\n",
            "Epoch 40: Loss = 0.0069, Train Accuracy = 1.0000, Val Loss = 0.0039, Val Accuracy = 1.0000\n",
            "Epoch 50: Loss = 0.0080, Train Accuracy = 1.0000, Val Loss = 0.0034, Val Accuracy = 1.0000\n",
            "Epoch 60: Loss = 0.0073, Train Accuracy = 1.0000, Val Loss = 0.0030, Val Accuracy = 1.0000\n",
            "time: 1.97 s (started: 2024-04-27 23:35:50 +00:00)\n"
          ]
        }
      ],
      "source": [
        "model = Transformer(input_size, embed_size).to(device)\n",
        "optimizer = optim.Adam(model.parameters(), lr=0.0005)\n",
        "loss_function = nn.CrossEntropyLoss(ignore_index=word_to_index[\"EOS\"])\n",
        "\n",
        "dataset = TranslationDataset(french_to_english, word_to_index)\n",
        "translation_loader = DataLoader(dataset, batch_size=32, shuffle=True, collate_fn= collate_batch)\n",
        "\n",
        "for epoch_num in range(epochs + 1):\n",
        "    model.train()\n",
        "\n",
        "    total_train_loss = 0\n",
        "    correct_predictions = 0\n",
        "    total_predictions = 0\n",
        "\n",
        "    for english_tensor, french_tensor in translation_loader:\n",
        "        english_tensor = english_tensor.to(device)\n",
        "        french_tensor = french_tensor.to(device)\n",
        "\n",
        "        optimizer.zero_grad()\n",
        "        output = model(english_tensor, french_tensor[:, :-1])\n",
        "        output_flat = output.view(-1, output.size(-1))\n",
        "        french_target_flat = french_tensor[:, 1:].contiguous().view(-1)\n",
        "\n",
        "        valid_french_tokens = french_target_flat != 1\n",
        "        loss = loss_function(output_flat[valid_french_tokens], french_target_flat[valid_french_tokens])\n",
        "        loss.backward()\n",
        "        optimizer.step()\n",
        "\n",
        "        total_train_loss += loss.item()\n",
        "        _, predicted = torch.max(output_flat, 1)\n",
        "        valid_predictions = (predicted == french_target_flat) & valid_french_tokens\n",
        "        correct_predictions += valid_predictions.sum().item()\n",
        "        total_predictions += valid_french_tokens.sum().item()\n",
        "\n",
        "    mean_train_loss = total_train_loss / len(translation_loader)\n",
        "    training_accuracy = correct_predictions / total_predictions if total_predictions > 0 else 0\n",
        "\n",
        "    model.eval()\n",
        "    total_eval_loss = 0\n",
        "    eval_correct = 0\n",
        "    eval_total = 0\n",
        "    with torch.no_grad():\n",
        "        for english_tensor, french_tensor in translation_loader:\n",
        "            english_tensor = english_tensor.to(device)\n",
        "            french_tensor = french_tensor.to(device)\n",
        "\n",
        "            output = model(english_tensor, french_tensor[:, :-1])\n",
        "            output_flat = output.view(-1, output.size(-1))\n",
        "            french_target_flat = french_tensor[:, 1:].contiguous().view(-1)\n",
        "\n",
        "            valid_french_tokens = french_target_flat != 1\n",
        "            loss = loss_function(output_flat[valid_french_tokens], french_target_flat[valid_french_tokens])\n",
        "\n",
        "            total_eval_loss += loss.item()\n",
        "\n",
        "            _, predicted = torch.max(output_flat, 1)\n",
        "            valid_predictions = (predicted == french_target_flat) & valid_french_tokens\n",
        "            eval_correct += valid_predictions.sum().item()\n",
        "            eval_total += valid_french_tokens.sum().item()\n",
        "\n",
        "    mean_eval_loss = total_eval_loss / len(translation_loader)\n",
        "    evaluation_accuracy = eval_correct / eval_total if eval_total > 0 else 0\n",
        "    if epoch_num % 10 == 0:\n",
        "        print(f'Epoch {epoch_num}: Loss = {mean_train_loss:.4f}, Train Accuracy = {training_accuracy:.4f}, '\n",
        "              f'Val Loss = {mean_eval_loss:.4f}, Val Accuracy = {evaluation_accuracy:.4f}')\n"
      ]
    },
    {
      "cell_type": "code",
      "execution_count": 18,
      "metadata": {
        "id": "3N-5h5oFswX8",
        "colab": {
          "base_uri": "https://localhost:8080/",
          "height": 53
        },
        "outputId": "d4a9c855-71b5-46f5-c54d-0f3e1c90f385"
      },
      "outputs": [
        {
          "output_type": "execute_result",
          "data": {
            "text/plain": [
              "'you you you'"
            ],
            "application/vnd.google.colaboratory.intrinsic+json": {
              "type": "string"
            }
          },
          "metadata": {},
          "execution_count": 18
        },
        {
          "output_type": "stream",
          "name": "stdout",
          "text": [
            "time: 46.1 ms (started: 2024-04-27 23:37:17 +00:00)\n"
          ]
        }
      ],
      "source": [
        "sentence =  \"Elle est heureuse\"\n",
        "\n",
        "\n",
        "# Ensure the model is in evaluation mode\n",
        "model.eval()\n",
        "\n",
        "# Tokenize the sentence and convert each word to its corresponding index, handling unknown words\n",
        "input_indices = [word_to_index.get(word, word_to_index[\"EOS\"]) for word in sentence.split()]\n",
        "input_tensor = torch.tensor(input_indices).unsqueeze(0).to(device)\n",
        "\n",
        "# Start the output sequence with the 'SOS' token\n",
        "output_indices = [word_to_index['SOS']]\n",
        "\n",
        "# Generate output words one by one\n",
        "for _ in range(len(input_indices)):\n",
        "    # Prepare the current output sequence as input for the model\n",
        "    output_tensor = torch.tensor(output_indices).unsqueeze(0).to(device)\n",
        "\n",
        "    # Obtain model predictions\n",
        "    with torch.no_grad():\n",
        "        predictions = model(input_tensor, output_tensor)\n",
        "\n",
        "    # Determine the predicted index (highest probability in the last position)\n",
        "    predicted_index = predictions[0, -1, :].argmax(0).item()\n",
        "\n",
        "    # Break if the model predicts the 'EOS' token\n",
        "    if predicted_index == word_to_index['EOS']:\n",
        "        break\n",
        "\n",
        "    # Append the predicted index to the output sequence\n",
        "    output_indices.append(predicted_index)\n",
        "\n",
        "# Map indices back to words, skipping the 'SOS' token for the final sentence\n",
        "index_to_word = {index: word for word, index in word_to_index.items()}\n",
        "translated_sentence = ' '.join(index_to_word[idx] for idx in output_indices if idx != word_to_index['SOS'])\n",
        "\n",
        "translated_sentence\n"
      ]
    },
    {
      "cell_type": "code",
      "source": [],
      "metadata": {
        "id": "n47K75Cu65Fe"
      },
      "execution_count": null,
      "outputs": []
    }
  ],
  "metadata": {
    "accelerator": "GPU",
    "colab": {
      "gpuType": "T4",
      "provenance": [],
      "include_colab_link": true
    },
    "kernelspec": {
      "display_name": "Python 3",
      "name": "python3"
    },
    "language_info": {
      "codemirror_mode": {
        "name": "ipython",
        "version": 3
      },
      "file_extension": ".py",
      "mimetype": "text/x-python",
      "name": "python",
      "nbconvert_exporter": "python",
      "pygments_lexer": "ipython3",
      "version": "3.9.1"
    }
  },
  "nbformat": 4,
  "nbformat_minor": 0
}