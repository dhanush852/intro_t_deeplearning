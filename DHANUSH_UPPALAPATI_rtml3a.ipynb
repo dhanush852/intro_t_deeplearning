{
 "cells": [
  {
   "cell_type": "code",
   "execution_count": 31,
   "id": "31e16a4f-55dc-4267-819b-9deb2b6ca02b",
   "metadata": {},
   "outputs": [],
   "source": [
    "import torch\n",
    "import torch.nn as nn\n",
    "import torch.optim as optim\n",
    "import numpy as np\n",
    "from sklearn.model_selection import train_test_split\n",
    "import time"
   ]
  },
  {
   "cell_type": "code",
   "execution_count": 32,
   "id": "b8be1cdf-1c68-41ec-b553-a83e416e6e6e",
   "metadata": {},
   "outputs": [],
   "source": [
    "text = \"\"\"Next character prediction is a fundamental task in the field of natural language processing (NLP) that involves predicting the next character in a sequence of text based on the characters that precede it. This task is essential for various applications, including text auto-completion, spell checking, and even in the development of sophisticated AI models capable of generating human-like text.\n",
    "\n",
    "At its core, next character prediction relies on statistical models or deep learning algorithms to analyze a given sequence of text and predict which character is most likely to follow. These predictions are based on patterns and relationships learned from large datasets of text during the training phase of the model.\n",
    "\n",
    "One of the most popular approaches to next character prediction involves the use of Recurrent Neural Networks (RNNs), and more specifically, a variant called Long Short-Term Memory (LSTM) networks. RNNs are particularly well-suited for sequential data like text, as they can maintain information in 'memory' about previous characters to inform the prediction of the next character. LSTM networks enhance this capability by being able to remember long-term dependencies, making them even more effective for next character prediction tasks.\n",
    "\n",
    "Training a model for next character prediction involves feeding it large amounts of text data, allowing it to learn the probability of each character's appearance following a sequence of characters. During this training process, the model adjusts its parameters to minimize the difference between its predictions and the actual outcomes, thus improving its predictive accuracy over time.\n",
    "\n",
    "Once trained, the model can be used to predict the next character in a given piece of text by considering the sequence of characters that precede it. This can enhance user experience in text editing software, improve efficiency in coding environments with auto-completion features, and enable more natural interactions with AI-based chatbots and virtual assistants.\n",
    "\n",
    "In summary, next character prediction plays a crucial role in enhancing the capabilities of various NLP applications, making text-based interactions more efficient, accurate, and human-like. Through the use of advanced machine learning models like RNNs and LSTMs, next character prediction continues to evolve, opening new possibilities for the future of text-based technology.\"\"\"\n"
   ]
  },
  {
   "cell_type": "code",
   "execution_count": 33,
   "id": "032138b0-1f1e-4f9b-87d2-c371c77e7290",
   "metadata": {},
   "outputs": [],
   "source": [
    "chars = sorted(list(set(text)))\n",
    "ix_to_char = {i: ch for i, ch in enumerate(chars)}\n",
    "char_to_ix = {ch: i for i, ch in enumerate(chars)} "
   ]
  },
  {
   "cell_type": "code",
   "execution_count": 34,
   "id": "ae113192-8891-466b-bb19-0aa6de6eba4d",
   "metadata": {},
   "outputs": [],
   "source": [
    "def prepare_dataset(text, max_length):\n",
    "    X = []\n",
    "    y = []\n",
    "    for i in range(len(text) - max_length):\n",
    "        sequence = text[i:i + max_length]\n",
    "        label = text[i + max_length]\n",
    "        X.append([char_to_ix[char] for char in sequence])\n",
    "        y.append(char_to_ix[label])\n",
    "    X = np.array(X)\n",
    "    y = np.array(y)\n",
    "    return X, y\n"
   ]
  },
  {
   "cell_type": "code",
   "execution_count": 35,
   "id": "c5117f65-3aee-466a-a3c0-96645e2b5f5b",
   "metadata": {},
   "outputs": [],
   "source": [
    "class RNNModel(nn.Module):\n",
    "    def __init__(self, input_size, hidden_size, output_size):\n",
    "        super(RNNModel, self).__init__()\n",
    "        self.hidden_size = hidden_size\n",
    "        self.embedding = nn.Embedding(input_size, hidden_size)\n",
    "        self.rnn = nn.RNN(hidden_size, hidden_size, batch_first=True)\n",
    "        self.fc = nn.Linear(hidden_size, output_size)\n",
    "\n",
    "    def forward(self, x):\n",
    "        embedded = self.embedding(x)\n",
    "        output, _ = self.rnn(embedded)\n",
    "        output = self.fc(output[:, -1, :])\n",
    "        return output"
   ]
  },
  {
   "cell_type": "code",
   "execution_count": 36,
   "id": "3025b0b4-b91c-421c-8c4a-7aa26f6c4a1f",
   "metadata": {},
   "outputs": [],
   "source": [
    "class LSTMModel(nn.Module):\n",
    "    def __init__(self, input_size, hidden_size, output_size):\n",
    "        super(LSTMModel, self).__init__()\n",
    "        self.hidden_size = hidden_size\n",
    "        self.embedding = nn.Embedding(input_size, hidden_size)\n",
    "        self.lstm = nn.LSTM(hidden_size, hidden_size, batch_first=True)\n",
    "        self.fc = nn.Linear(hidden_size, output_size)\n",
    "\n",
    "    def forward(self, x):\n",
    "        embedded = self.embedding(x)\n",
    "        output, _ = self.lstm(embedded)\n",
    "        output = self.fc(output[:, -1, :])\n",
    "        return output\n"
   ]
  },
  {
   "cell_type": "code",
   "execution_count": 37,
   "id": "602b706a-3abc-4d04-886d-5b95d8c1bf1a",
   "metadata": {},
   "outputs": [],
   "source": [
    "class GRUModel(nn.Module):\n",
    "    def __init__(self, input_size, hidden_size, output_size):\n",
    "        super(GRUModel, self).__init__()\n",
    "        self.hidden_size = hidden_size\n",
    "        self.embedding = nn.Embedding(input_size, hidden_size)\n",
    "        self.gru = nn.GRU(hidden_size, hidden_size, batch_first=True)\n",
    "        self.fc = nn.Linear(hidden_size, output_size)\n",
    "\n",
    "    def forward(self, x):\n",
    "        embedded = self.embedding(x)\n",
    "        output, _ = self.gru(embedded)\n",
    "        output = self.fc(output[:, -1, :])\n",
    "        return output"
   ]
  },
  {
   "cell_type": "code",
   "execution_count": 38,
   "id": "93de1ab3-3ca3-463d-bf03-658021b91c50",
   "metadata": {},
   "outputs": [],
   "source": [
    "def get_num_params(model):\n",
    "    return sum(p.numel() for p in model.parameters() if p.requires_grad)"
   ]
  },
  {
   "cell_type": "code",
   "execution_count": 39,
   "id": "25d8d28d-1612-4a80-83c9-53007139be47",
   "metadata": {},
   "outputs": [],
   "source": [
    "hidden_size = 252\n",
    "learning_rate = 0.001\n",
    "epochs = 120"
   ]
  },
  {
   "cell_type": "code",
   "execution_count": 40,
   "id": "e73ee2e4-e949-4c8a-86c1-f5ce3eafb13a",
   "metadata": {},
   "outputs": [],
   "source": [
    "import time\n",
    "import torch\n",
    "\n",
    "\n",
    "def train_and_validate(model, X_train, y_train, X_val, y_val, criterion, optimizer, epochs, device):\n",
    "    \n",
    "    model = model.to(device)\n",
    "    X_train, y_train = X_train.to(device), y_train.to(device)\n",
    "    X_val, y_val = X_val.to(device), y_val.to(device)\n",
    "    \n",
    "    start_time = time.time()  \n",
    "    for epoch in range(epochs):\n",
    "        model.train()  \n",
    "        optimizer.zero_grad()  \n",
    "        output = model(X_train)\n",
    "        loss = criterion(output, y_train)\n",
    "        loss.backward()\n",
    "        optimizer.step()\n",
    "\n",
    "        if (epoch + 1) % 10 == 0:  \n",
    "            model.eval()  \n",
    "            with torch.no_grad():\n",
    "                val_output = model(X_val)\n",
    "                val_loss = criterion(val_output, y_val)\n",
    "                _, predicted = torch.max(val_output, 1)\n",
    "                val_accuracy = (predicted == y_val).float().mean()\n",
    "            # Print training and validation results\n",
    "            print(f'Epoch {epoch + 1}, Loss: {loss.item()}, Validation Loss: {val_loss.item()}, Validation Accuracy: {val_accuracy.item()}')\n",
    "    \n",
    "    end_time = time.time()  # End time\n",
    "    execution_time = end_time - start_time\n",
    "    print(f\"Execution Time: {execution_time} seconds\") \n"
   ]
  },
  {
   "cell_type": "code",
   "execution_count": 41,
   "id": "e46c3950-6ffd-4536-9af3-7e650c4fbf07",
   "metadata": {},
   "outputs": [],
   "source": [
    "X_1, y_1 = prepare_dataset(text, 1)\n",
    "X_train_1, X_val_1, y_train_1, y_val_1 = train_test_split(X_1, y_1, test_size=0.2, random_state=42)\n",
    "X_train_1 = torch.tensor(X_train_1, dtype=torch.long)\n",
    "y_train_1 = torch.tensor(y_train_1, dtype=torch.long)\n",
    "X_val_1 = torch.tensor(X_val_1, dtype=torch.long)\n",
    "y_val_1 = torch.tensor(y_val_1, dtype=torch.long)\n"
   ]
  },
  {
   "cell_type": "code",
   "execution_count": 42,
   "id": "ede42d62-3d8e-482e-8132-5c5669cdbe75",
   "metadata": {},
   "outputs": [],
   "source": [
    "X_2, y_2 = prepare_dataset(text, 2)\n",
    "X_train_2, X_val_2, y_train_2, y_val_2 = train_test_split(X_2, y_2, test_size=0.2, random_state=42)\n",
    "X_train_2 = torch.tensor(X_train_2, dtype=torch.long)\n",
    "y_train_2 = torch.tensor(y_train_2, dtype=torch.long)\n",
    "X_val_2 = torch.tensor(X_val_2, dtype=torch.long)\n",
    "y_val_2 = torch.tensor(y_val_2, dtype=torch.long)\n"
   ]
  },
  {
   "cell_type": "code",
   "execution_count": 43,
   "id": "aec6867c-868a-414f-8fbb-c293abf5d581",
   "metadata": {},
   "outputs": [],
   "source": [
    "X_3, y_3 = prepare_dataset(text, 3)\n",
    "X_train_3, X_val_3, y_train_3, y_val_3 = train_test_split(X_3, y_3, test_size=0.2, random_state=42)\n",
    "X_train_3 = torch.tensor(X_train_3, dtype=torch.long)\n",
    "y_train_3 = torch.tensor(y_train_3, dtype=torch.long)\n",
    "X_val_3 = torch.tensor(X_val_3, dtype=torch.long)\n",
    "y_val_3 = torch.tensor(y_val_3, dtype=torch.long)\n"
   ]
  },
  {
   "cell_type": "code",
   "execution_count": 44,
   "id": "4fb6d4c2-7d14-4e37-8a83-d12fa75bb627",
   "metadata": {},
   "outputs": [],
   "source": [
    "rnn_model = RNNModel(len(chars), hidden_size, len(chars))\n",
    "lstm_model = LSTMModel(len(chars), hidden_size, len(chars))\n",
    "gru_model = GRUModel(len(chars), hidden_size, len(chars))"
   ]
  },
  {
   "cell_type": "code",
   "execution_count": 45,
   "id": "c14c71a5-351b-4570-bddd-30c1b4dec246",
   "metadata": {},
   "outputs": [],
   "source": [
    "criterion = nn.CrossEntropyLoss()\n",
    "rnn_optimizer = optim.Adam(rnn_model.parameters(), lr=learning_rate)\n",
    "lstm_optimizer = optim.Adam(lstm_model.parameters(), lr=learning_rate)\n",
    "gru_optimizer = optim.Adam(gru_model.parameters(), lr=learning_rate)"
   ]
  },
  {
   "cell_type": "code",
   "execution_count": 46,
   "id": "63668c5f",
   "metadata": {},
   "outputs": [],
   "source": [
    "device = torch.device(\"cuda\" if torch.cuda.is_available() else \"cpu\")"
   ]
  },
  {
   "cell_type": "code",
   "execution_count": 47,
   "id": "7dc0d14f-b15d-43af-98d5-e26ceec5d5ff",
   "metadata": {},
   "outputs": [
    {
     "name": "stdout",
     "output_type": "stream",
     "text": [
      "RNN Model:\n",
      "Epoch 10, Loss: 2.8190906047821045, Validation Loss: 2.827759265899658, Validation Accuracy: 0.2552301287651062\n",
      "Epoch 20, Loss: 2.4165122509002686, Validation Loss: 2.5396246910095215, Validation Accuracy: 0.2845188081264496\n",
      "Epoch 30, Loss: 2.2846312522888184, Validation Loss: 2.469707489013672, Validation Accuracy: 0.26359832286834717\n",
      "Epoch 40, Loss: 2.2249252796173096, Validation Loss: 2.437910318374634, Validation Accuracy: 0.2594142258167267\n",
      "Epoch 50, Loss: 2.1944639682769775, Validation Loss: 2.4180827140808105, Validation Accuracy: 0.26778241991996765\n",
      "Epoch 60, Loss: 2.175205945968628, Validation Loss: 2.4137637615203857, Validation Accuracy: 0.2552301287651062\n",
      "Epoch 70, Loss: 2.1631758213043213, Validation Loss: 2.4125943183898926, Validation Accuracy: 0.2698744833469391\n",
      "Epoch 80, Loss: 2.1556789875030518, Validation Loss: 2.4146406650543213, Validation Accuracy: 0.26778241991996765\n",
      "Epoch 90, Loss: 2.150578498840332, Validation Loss: 2.421037435531616, Validation Accuracy: 0.26778241991996765\n",
      "Epoch 100, Loss: 2.147026777267456, Validation Loss: 2.427332878112793, Validation Accuracy: 0.26150625944137573\n",
      "Epoch 110, Loss: 2.1444222927093506, Validation Loss: 2.4330718517303467, Validation Accuracy: 0.27196651697158813\n",
      "Epoch 120, Loss: 2.1424548625946045, Validation Loss: 2.438248872756958, Validation Accuracy: 0.2698744833469391\n",
      "Execution Time: 1.23856520652771 seconds\n",
      "150237\n"
     ]
    }
   ],
   "source": [
    "print(\"RNN Model:\")\n",
    "train_and_validate(rnn_model, X_train_1, y_train_1, X_val_1, y_val_1, criterion, rnn_optimizer, epochs, device)\n",
    "print(get_num_params(rnn_model))"
   ]
  },
  {
   "cell_type": "code",
   "execution_count": 48,
   "id": "ff18915d-cdd7-4700-883b-2ed832f6fdf3",
   "metadata": {},
   "outputs": [
    {
     "name": "stdout",
     "output_type": "stream",
     "text": [
      "Epoch 10, Loss: 1.7925397157669067, Validation Loss: 2.146686315536499, Validation Accuracy: 0.38912132382392883\n",
      "Epoch 20, Loss: 1.560263991355896, Validation Loss: 2.104840040206909, Validation Accuracy: 0.41004183888435364\n",
      "Epoch 30, Loss: 1.414550542831421, Validation Loss: 2.1246912479400635, Validation Accuracy: 0.4016736149787903\n",
      "Epoch 40, Loss: 1.3167483806610107, Validation Loss: 2.1399459838867188, Validation Accuracy: 0.42677822709083557\n",
      "Epoch 50, Loss: 1.2520959377288818, Validation Loss: 2.1745829582214355, Validation Accuracy: 0.42677822709083557\n",
      "Epoch 60, Loss: 1.209848165512085, Validation Loss: 2.21372127532959, Validation Accuracy: 0.43096232414245605\n",
      "Epoch 70, Loss: 1.1819595098495483, Validation Loss: 2.2560644149780273, Validation Accuracy: 0.428870290517807\n",
      "Epoch 80, Loss: 1.1632120609283447, Validation Loss: 2.2983338832855225, Validation Accuracy: 0.428870290517807\n",
      "Epoch 90, Loss: 1.1503373384475708, Validation Loss: 2.337310552597046, Validation Accuracy: 0.42677822709083557\n",
      "Epoch 100, Loss: 1.1412091255187988, Validation Loss: 2.3716347217559814, Validation Accuracy: 0.42677822709083557\n",
      "Epoch 110, Loss: 1.1345058679580688, Validation Loss: 2.4033854007720947, Validation Accuracy: 0.428870290517807\n",
      "Epoch 120, Loss: 1.129435420036316, Validation Loss: 2.4322917461395264, Validation Accuracy: 0.43096232414245605\n",
      "Execution Time: 1.6421864032745361 seconds\n",
      "150237\n"
     ]
    }
   ],
   "source": [
    "train_and_validate(rnn_model, X_train_2, y_train_2, X_val_2, y_val_2, criterion, rnn_optimizer,epochs, device)\n",
    "print(get_num_params(rnn_model))"
   ]
  },
  {
   "cell_type": "code",
   "execution_count": 49,
   "id": "cd41f726-b97a-4d8f-8f35-af6c78a7f2b3",
   "metadata": {},
   "outputs": [
    {
     "name": "stdout",
     "output_type": "stream",
     "text": [
      "Epoch 10, Loss: 1.062303900718689, Validation Loss: 1.6318860054016113, Validation Accuracy: 0.5167363882064819\n",
      "Epoch 20, Loss: 0.8074373006820679, Validation Loss: 1.6754889488220215, Validation Accuracy: 0.5418409705162048\n",
      "Epoch 30, Loss: 0.6683316230773926, Validation Loss: 1.7292901277542114, Validation Accuracy: 0.5418409705162048\n",
      "Epoch 40, Loss: 0.5888970494270325, Validation Loss: 1.7992603778839111, Validation Accuracy: 0.5397489666938782\n",
      "Epoch 50, Loss: 0.5440475344657898, Validation Loss: 1.8663281202316284, Validation Accuracy: 0.5334727764129639\n",
      "Epoch 60, Loss: 0.5177153944969177, Validation Loss: 1.9274318218231201, Validation Accuracy: 0.5439330339431763\n",
      "Epoch 70, Loss: 0.5013795495033264, Validation Loss: 1.9812839031219482, Validation Accuracy: 0.5376569032669067\n",
      "Epoch 80, Loss: 0.4905721843242645, Validation Loss: 2.031243085861206, Validation Accuracy: 0.5439330339431763\n",
      "Epoch 90, Loss: 0.4829903542995453, Validation Loss: 2.0754292011260986, Validation Accuracy: 0.5418409705162048\n",
      "Epoch 100, Loss: 0.47740474343299866, Validation Loss: 2.1146910190582275, Validation Accuracy: 0.5397489666938782\n",
      "Epoch 110, Loss: 0.4731273949146271, Validation Loss: 2.1495361328125, Validation Accuracy: 0.5376569032669067\n",
      "Epoch 120, Loss: 0.46974751353263855, Validation Loss: 2.1811556816101074, Validation Accuracy: 0.5397489666938782\n",
      "Execution Time: 1.5289504528045654 seconds\n",
      "150237\n"
     ]
    }
   ],
   "source": [
    "train_and_validate(rnn_model, X_train_3, y_train_3, X_val_3, y_val_3, criterion, rnn_optimizer,epochs, device)\n",
    "print(get_num_params(rnn_model))"
   ]
  },
  {
   "cell_type": "code",
   "execution_count": 50,
   "id": "fbbeaf34-9d5a-431d-9374-ee8336667076",
   "metadata": {},
   "outputs": [
    {
     "name": "stdout",
     "output_type": "stream",
     "text": [
      "LSTM Model:\n",
      "Epoch 10, Loss: 3.2934412956237793, Validation Loss: 3.265193462371826, Validation Accuracy: 0.2552301287651062\n",
      "Epoch 20, Loss: 2.7467668056488037, Validation Loss: 2.7896931171417236, Validation Accuracy: 0.26359832286834717\n",
      "Epoch 30, Loss: 2.481499195098877, Validation Loss: 2.574321985244751, Validation Accuracy: 0.2698744833469391\n",
      "Epoch 40, Loss: 2.3635807037353516, Validation Loss: 2.492399215698242, Validation Accuracy: 0.26778241991996765\n",
      "Epoch 50, Loss: 2.2946183681488037, Validation Loss: 2.450814962387085, Validation Accuracy: 0.2656903564929962\n",
      "Epoch 60, Loss: 2.2516229152679443, Validation Loss: 2.4244048595428467, Validation Accuracy: 0.26359832286834717\n",
      "Epoch 70, Loss: 2.2219302654266357, Validation Loss: 2.4195313453674316, Validation Accuracy: 0.26359832286834717\n",
      "Epoch 80, Loss: 2.2008533477783203, Validation Loss: 2.4129128456115723, Validation Accuracy: 0.2594142258167267\n",
      "Epoch 90, Loss: 2.1853156089782715, Validation Loss: 2.412950038909912, Validation Accuracy: 0.26150625944137573\n",
      "Epoch 100, Loss: 2.1735851764678955, Validation Loss: 2.4149985313415527, Validation Accuracy: 0.2552301287651062\n",
      "Epoch 110, Loss: 2.1647021770477295, Validation Loss: 2.4171252250671387, Validation Accuracy: 0.2552301287651062\n",
      "Epoch 120, Loss: 2.1580049991607666, Validation Loss: 2.419095754623413, Validation Accuracy: 0.25313806533813477\n",
      "Execution Time: 0.5516202449798584 seconds\n",
      "532773\n"
     ]
    }
   ],
   "source": [
    "print(\"LSTM Model:\")\n",
    "train_and_validate(lstm_model, X_train_1, y_train_1, X_val_1, y_val_1, criterion, lstm_optimizer,epochs, device)\n",
    "print(get_num_params(lstm_model))"
   ]
  },
  {
   "cell_type": "code",
   "execution_count": 51,
   "id": "9c295012-b672-4f9f-b802-fe1ebbfb4cc4",
   "metadata": {},
   "outputs": [
    {
     "name": "stdout",
     "output_type": "stream",
     "text": [
      "LSTM Model:\n",
      "Epoch 10, Loss: 1.8638733625411987, Validation Loss: 2.140531539916992, Validation Accuracy: 0.3723849356174469\n",
      "Epoch 20, Loss: 1.5999633073806763, Validation Loss: 2.0835647583007812, Validation Accuracy: 0.4142259359359741\n",
      "Epoch 30, Loss: 1.4280579090118408, Validation Loss: 2.0665769577026367, Validation Accuracy: 0.437238484621048\n",
      "Epoch 40, Loss: 1.3147048950195312, Validation Loss: 2.0790088176727295, Validation Accuracy: 0.439330518245697\n",
      "Epoch 50, Loss: 1.2411460876464844, Validation Loss: 2.1196553707122803, Validation Accuracy: 0.43096232414245605\n",
      "Epoch 60, Loss: 1.1947238445281982, Validation Loss: 2.170346736907959, Validation Accuracy: 0.43514642119407654\n",
      "Epoch 70, Loss: 1.1661120653152466, Validation Loss: 2.2193410396575928, Validation Accuracy: 0.4330543875694275\n",
      "Epoch 80, Loss: 1.14840829372406, Validation Loss: 2.2642269134521484, Validation Accuracy: 0.4330543875694275\n",
      "Epoch 90, Loss: 1.1371252536773682, Validation Loss: 2.307746648788452, Validation Accuracy: 0.4330543875694275\n",
      "Epoch 100, Loss: 1.129580020904541, Validation Loss: 2.3478152751922607, Validation Accuracy: 0.43514642119407654\n",
      "Epoch 110, Loss: 1.1242866516113281, Validation Loss: 2.383789300918579, Validation Accuracy: 0.43514642119407654\n",
      "Epoch 120, Loss: 1.1204017400741577, Validation Loss: 2.415764808654785, Validation Accuracy: 0.43514642119407654\n",
      "Execution Time: 1.1888558864593506 seconds\n",
      "532773\n"
     ]
    }
   ],
   "source": [
    "print(\"LSTM Model:\")\n",
    "train_and_validate(lstm_model, X_train_2, y_train_2, X_val_2, y_val_2, criterion, lstm_optimizer,epochs, device)\n",
    "print(get_num_params(lstm_model))"
   ]
  },
  {
   "cell_type": "code",
   "execution_count": 52,
   "id": "6b9e3de2-3022-4395-993b-bd93b087a57a",
   "metadata": {},
   "outputs": [
    {
     "name": "stdout",
     "output_type": "stream",
     "text": [
      "LSTM Model:\n",
      "Epoch 10, Loss: 1.0321773290634155, Validation Loss: 1.6299558877944946, Validation Accuracy: 0.5188284516334534\n",
      "Epoch 20, Loss: 0.7690505981445312, Validation Loss: 1.6649969816207886, Validation Accuracy: 0.5355648398399353\n",
      "Epoch 30, Loss: 0.6267516016960144, Validation Loss: 1.7253037691116333, Validation Accuracy: 0.5481171607971191\n",
      "Epoch 40, Loss: 0.5518584251403809, Validation Loss: 1.8037258386611938, Validation Accuracy: 0.5397489666938782\n",
      "Epoch 50, Loss: 0.5132642984390259, Validation Loss: 1.8851126432418823, Validation Accuracy: 0.5334727764129639\n",
      "Epoch 60, Loss: 0.4928892254829407, Validation Loss: 1.9561148881912231, Validation Accuracy: 0.5460250973701477\n",
      "Epoch 70, Loss: 0.481222540140152, Validation Loss: 2.0159895420074463, Validation Accuracy: 0.5481171607971191\n",
      "Epoch 80, Loss: 0.4739202558994293, Validation Loss: 2.067854166030884, Validation Accuracy: 0.5460250973701477\n",
      "Epoch 90, Loss: 0.46896180510520935, Validation Loss: 2.1111650466918945, Validation Accuracy: 0.5418409705162048\n",
      "Epoch 100, Loss: 0.4653756618499756, Validation Loss: 2.148685932159424, Validation Accuracy: 0.5418409705162048\n",
      "Epoch 110, Loss: 0.46265095472335815, Validation Loss: 2.18178391456604, Validation Accuracy: 0.5355648398399353\n",
      "Epoch 120, Loss: 0.4605059325695038, Validation Loss: 2.2117600440979004, Validation Accuracy: 0.5355648398399353\n",
      "Execution Time: 1.6222853660583496 seconds\n",
      "532773\n"
     ]
    }
   ],
   "source": [
    "print(\"LSTM Model:\")\n",
    "train_and_validate(lstm_model, X_train_3, y_train_3, X_val_3, y_val_3, criterion, lstm_optimizer,epochs, device)\n",
    "print(get_num_params(lstm_model))"
   ]
  },
  {
   "cell_type": "code",
   "execution_count": 53,
   "id": "e7519918",
   "metadata": {},
   "outputs": [
    {
     "name": "stdout",
     "output_type": "stream",
     "text": [
      "GRU Model:\n",
      "Epoch 10, Loss: 3.0353755950927734, Validation Loss: 3.0109283924102783, Validation Accuracy: 0.286610871553421\n",
      "Epoch 20, Loss: 2.5264534950256348, Validation Loss: 2.6055026054382324, Validation Accuracy: 0.2698744833469391\n",
      "Epoch 30, Loss: 2.3619093894958496, Validation Loss: 2.5176753997802734, Validation Accuracy: 0.2698744833469391\n",
      "Epoch 40, Loss: 2.279667377471924, Validation Loss: 2.45976185798645, Validation Accuracy: 0.26778241991996765\n",
      "Epoch 50, Loss: 2.231778144836426, Validation Loss: 2.432094097137451, Validation Accuracy: 0.26778241991996765\n",
      "Epoch 60, Loss: 2.202481746673584, Validation Loss: 2.4236841201782227, Validation Accuracy: 0.24686191976070404\n",
      "Epoch 70, Loss: 2.1829121112823486, Validation Loss: 2.4159412384033203, Validation Accuracy: 0.2594142258167267\n",
      "Epoch 80, Loss: 2.169572353363037, Validation Loss: 2.4152328968048096, Validation Accuracy: 0.2656903564929962\n",
      "Epoch 90, Loss: 2.1603031158447266, Validation Loss: 2.4175329208374023, Validation Accuracy: 0.2656903564929962\n",
      "Epoch 100, Loss: 2.153866767883301, Validation Loss: 2.421889543533325, Validation Accuracy: 0.2656903564929962\n",
      "Epoch 110, Loss: 2.149322748184204, Validation Loss: 2.4261770248413086, Validation Accuracy: 0.2698744833469391\n",
      "Epoch 120, Loss: 2.14601731300354, Validation Loss: 2.431960105895996, Validation Accuracy: 0.2656903564929962\n",
      "Execution Time: 0.5458183288574219 seconds\n",
      "405261\n"
     ]
    }
   ],
   "source": [
    "print(\"GRU Model:\")\n",
    "train_and_validate(gru_model, X_train_1, y_train_1, X_val_1, y_val_1, criterion, gru_optimizer,epochs, device)\n",
    "print(get_num_params(gru_model))"
   ]
  },
  {
   "cell_type": "code",
   "execution_count": 54,
   "id": "eb86df74",
   "metadata": {},
   "outputs": [
    {
     "name": "stdout",
     "output_type": "stream",
     "text": [
      "GRU Model:\n",
      "Epoch 10, Loss: 1.847272515296936, Validation Loss: 2.180546522140503, Validation Accuracy: 0.38493722677230835\n",
      "Epoch 20, Loss: 1.56328547000885, Validation Loss: 2.114269733428955, Validation Accuracy: 0.4016736149787903\n",
      "Epoch 30, Loss: 1.3939865827560425, Validation Loss: 2.088164806365967, Validation Accuracy: 0.4225941300392151\n",
      "Epoch 40, Loss: 1.2852137088775635, Validation Loss: 2.1070504188537598, Validation Accuracy: 0.4246861934661865\n",
      "Epoch 50, Loss: 1.2181322574615479, Validation Loss: 2.1577041149139404, Validation Accuracy: 0.4246861934661865\n",
      "Epoch 60, Loss: 1.1775497198104858, Validation Loss: 2.21258807182312, Validation Accuracy: 0.42677822709083557\n",
      "Epoch 70, Loss: 1.153670310974121, Validation Loss: 2.265575885772705, Validation Accuracy: 0.4330543875694275\n",
      "Epoch 80, Loss: 1.1391923427581787, Validation Loss: 2.314955949783325, Validation Accuracy: 0.428870290517807\n",
      "Epoch 90, Loss: 1.130064845085144, Validation Loss: 2.3600525856018066, Validation Accuracy: 0.42677822709083557\n",
      "Epoch 100, Loss: 1.1239813566207886, Validation Loss: 2.3988022804260254, Validation Accuracy: 0.4246861934661865\n",
      "Epoch 110, Loss: 1.1197086572647095, Validation Loss: 2.4328768253326416, Validation Accuracy: 0.428870290517807\n",
      "Epoch 120, Loss: 1.1165562868118286, Validation Loss: 2.4639201164245605, Validation Accuracy: 0.42677822709083557\n",
      "Execution Time: 0.9769148826599121 seconds\n",
      "405261\n"
     ]
    }
   ],
   "source": [
    "print(\"GRU Model:\")\n",
    "train_and_validate(gru_model, X_train_2, y_train_2, X_val_2, y_val_2, criterion, gru_optimizer,epochs, device)\n",
    "print(get_num_params(gru_model))"
   ]
  },
  {
   "cell_type": "code",
   "execution_count": 55,
   "id": "4c1e2aaf",
   "metadata": {},
   "outputs": [
    {
     "name": "stdout",
     "output_type": "stream",
     "text": [
      "GRU Model:\n",
      "Epoch 10, Loss: 0.9958236813545227, Validation Loss: 1.675275444984436, Validation Accuracy: 0.5041840672492981\n",
      "Epoch 20, Loss: 0.7340080142021179, Validation Loss: 1.6907497644424438, Validation Accuracy: 0.5606694221496582\n",
      "Epoch 30, Loss: 0.5992169380187988, Validation Loss: 1.7615966796875, Validation Accuracy: 0.5523012280464172\n",
      "Epoch 40, Loss: 0.5319854021072388, Validation Loss: 1.8627727031707764, Validation Accuracy: 0.5543932914733887\n",
      "Epoch 50, Loss: 0.49934303760528564, Validation Loss: 1.9536759853363037, Validation Accuracy: 0.5502091646194458\n",
      "Epoch 60, Loss: 0.48268359899520874, Validation Loss: 2.0268783569335938, Validation Accuracy: 0.5502091646194458\n",
      "Epoch 70, Loss: 0.47340476512908936, Validation Loss: 2.0857481956481934, Validation Accuracy: 0.5397489666938782\n",
      "Epoch 80, Loss: 0.4676727056503296, Validation Loss: 2.1323981285095215, Validation Accuracy: 0.5481171607971191\n",
      "Epoch 90, Loss: 0.4638062119483948, Validation Loss: 2.1722216606140137, Validation Accuracy: 0.5523012280464172\n",
      "Epoch 100, Loss: 0.4610101580619812, Validation Loss: 2.2074193954467773, Validation Accuracy: 0.5460250973701477\n",
      "Epoch 110, Loss: 0.4588840901851654, Validation Loss: 2.238856792449951, Validation Accuracy: 0.5502091646194458\n",
      "Epoch 120, Loss: 0.45720160007476807, Validation Loss: 2.267617702484131, Validation Accuracy: 0.5460250973701477\n",
      "Execution Time: 1.2337567806243896 seconds\n",
      "405261\n"
     ]
    }
   ],
   "source": [
    "print(\"GRU Model:\")\n",
    "train_and_validate(gru_model, X_train_3, y_train_3, X_val_3, y_val_3, criterion, gru_optimizer,epochs, device)\n",
    "print(get_num_params(gru_model))"
   ]
  },
  {
   "cell_type": "code",
   "execution_count": null,
   "id": "382f688b",
   "metadata": {},
   "outputs": [],
   "source": []
  },
  {
   "cell_type": "code",
   "execution_count": null,
   "id": "81ad4724",
   "metadata": {},
   "outputs": [],
   "source": []
  }
 ],
 "metadata": {
  "kernelspec": {
   "display_name": "Python 3 (ipykernel)",
   "language": "python",
   "name": "python3"
  },
  "language_info": {
   "codemirror_mode": {
    "name": "ipython",
    "version": 3
   },
   "file_extension": ".py",
   "mimetype": "text/x-python",
   "name": "python",
   "nbconvert_exporter": "python",
   "pygments_lexer": "ipython3",
   "version": "3.9.1"
  }
 },
 "nbformat": 4,
 "nbformat_minor": 5
}
