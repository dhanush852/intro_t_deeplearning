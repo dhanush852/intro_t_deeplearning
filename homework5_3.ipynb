{
  "nbformat": 4,
  "nbformat_minor": 0,
  "metadata": {
    "colab": {
      "provenance": [],
      "gpuType": "T4",
      "authorship_tag": "ABX9TyMiIfrWQIc6tiBgUuOh9i7g",
      "include_colab_link": true
    },
    "kernelspec": {
      "name": "python3",
      "display_name": "Python 3"
    },
    "language_info": {
      "name": "python"
    },
    "accelerator": "GPU"
  },
  "cells": [
    {
      "cell_type": "markdown",
      "metadata": {
        "id": "view-in-github",
        "colab_type": "text"
      },
      "source": [
        "<a href=\"https://colab.research.google.com/github/dhanush852/intro_to_deeplearning/blob/main/homework5_3.ipynb\" target=\"_parent\"><img src=\"https://colab.research.google.com/assets/colab-badge.svg\" alt=\"Open In Colab\"/></a>"
      ]
    },
    {
      "cell_type": "code",
      "execution_count": 1,
      "metadata": {
        "colab": {
          "base_uri": "https://localhost:8080/"
        },
        "id": "1XI6IF73kzsq",
        "outputId": "252eb293-c5ff-40da-cbd8-96b7efeda6e9"
      },
      "outputs": [
        {
          "output_type": "stream",
          "name": "stdout",
          "text": [
            "Collecting ipython-autotime\n",
            "  Downloading ipython_autotime-0.3.2-py2.py3-none-any.whl (7.0 kB)\n",
            "Requirement already satisfied: ipython in /usr/local/lib/python3.10/dist-packages (from ipython-autotime) (7.34.0)\n",
            "Requirement already satisfied: setuptools>=18.5 in /usr/local/lib/python3.10/dist-packages (from ipython->ipython-autotime) (67.7.2)\n",
            "Collecting jedi>=0.16 (from ipython->ipython-autotime)\n",
            "  Downloading jedi-0.19.1-py2.py3-none-any.whl (1.6 MB)\n",
            "\u001b[2K     \u001b[90m━━━━━━━━━━━━━━━━━━━━━━━━━━━━━━━━━━━━━━━━\u001b[0m \u001b[32m1.6/1.6 MB\u001b[0m \u001b[31m23.7 MB/s\u001b[0m eta \u001b[36m0:00:00\u001b[0m\n",
            "\u001b[?25hRequirement already satisfied: decorator in /usr/local/lib/python3.10/dist-packages (from ipython->ipython-autotime) (4.4.2)\n",
            "Requirement already satisfied: pickleshare in /usr/local/lib/python3.10/dist-packages (from ipython->ipython-autotime) (0.7.5)\n",
            "Requirement already satisfied: traitlets>=4.2 in /usr/local/lib/python3.10/dist-packages (from ipython->ipython-autotime) (5.7.1)\n",
            "Requirement already satisfied: prompt-toolkit!=3.0.0,!=3.0.1,<3.1.0,>=2.0.0 in /usr/local/lib/python3.10/dist-packages (from ipython->ipython-autotime) (3.0.43)\n",
            "Requirement already satisfied: pygments in /usr/local/lib/python3.10/dist-packages (from ipython->ipython-autotime) (2.16.1)\n",
            "Requirement already satisfied: backcall in /usr/local/lib/python3.10/dist-packages (from ipython->ipython-autotime) (0.2.0)\n",
            "Requirement already satisfied: matplotlib-inline in /usr/local/lib/python3.10/dist-packages (from ipython->ipython-autotime) (0.1.7)\n",
            "Requirement already satisfied: pexpect>4.3 in /usr/local/lib/python3.10/dist-packages (from ipython->ipython-autotime) (4.9.0)\n",
            "Requirement already satisfied: parso<0.9.0,>=0.8.3 in /usr/local/lib/python3.10/dist-packages (from jedi>=0.16->ipython->ipython-autotime) (0.8.4)\n",
            "Requirement already satisfied: ptyprocess>=0.5 in /usr/local/lib/python3.10/dist-packages (from pexpect>4.3->ipython->ipython-autotime) (0.7.0)\n",
            "Requirement already satisfied: wcwidth in /usr/local/lib/python3.10/dist-packages (from prompt-toolkit!=3.0.0,!=3.0.1,<3.1.0,>=2.0.0->ipython->ipython-autotime) (0.2.13)\n",
            "Installing collected packages: jedi, ipython-autotime\n",
            "Successfully installed ipython-autotime-0.3.2 jedi-0.19.1\n",
            "time: 311 µs (started: 2024-04-27 22:10:06 +00:00)\n"
          ]
        }
      ],
      "source": [
        "\n",
        "!pip install ipython-autotime\n",
        "%load_ext autotime"
      ]
    },
    {
      "cell_type": "code",
      "source": [
        "import torch\n",
        "from torch.utils.data import Dataset, DataLoader\n",
        "import torch\n",
        "import torch.nn as nn\n",
        "import torch.optim as optim\n",
        "from torch.utils.data import DataLoader, Dataset\n",
        "import random\n",
        "from torch.nn.utils.rnn import pad_sequence\n"
      ],
      "metadata": {
        "colab": {
          "base_uri": "https://localhost:8080/"
        },
        "id": "fq0a4DN8mTJ1",
        "outputId": "1f13d51c-a2d1-4f6b-835a-0a339961906b"
      },
      "execution_count": 2,
      "outputs": [
        {
          "output_type": "stream",
          "name": "stdout",
          "text": [
            "time: 3.82 s (started: 2024-04-27 22:10:06 +00:00)\n"
          ]
        }
      ]
    },
    {
      "cell_type": "code",
      "source": [
        "device = torch.device(\"cuda\" if torch.cuda.is_available() else \"cpu\")\n",
        "device\n",
        ""
      ],
      "metadata": {
        "colab": {
          "base_uri": "https://localhost:8080/"
        },
        "id": "qBKXoovMmVcm",
        "outputId": "1dcda399-a835-42f5-fb7a-b459615b430d"
      },
      "execution_count": 3,
      "outputs": [
        {
          "output_type": "execute_result",
          "data": {
            "text/plain": [
              "device(type='cuda')"
            ]
          },
          "metadata": {},
          "execution_count": 3
        },
        {
          "output_type": "stream",
          "name": "stdout",
          "text": [
            "time: 50.8 ms (started: 2024-04-27 22:10:10 +00:00)\n"
          ]
        }
      ]
    },
    {
      "cell_type": "code",
      "source": [
        "english_to_french = [\n",
        "    (\"I am cold\", \"J'ai froid\"),\n",
        "\n",
        "    (\"You are tired\", \"Tu es fatigué\"),\n",
        "\n",
        "    (\"He is hungry\", \"Il a faim\"),\n",
        "\n",
        "    (\"She is happy\", \"Elle est heureuse\"),\n",
        "\n",
        "    (\"We are friends\", \"Nous sommes amis\"),\n",
        "\n",
        "    (\"They are students\", \"Ils sont étudiants\"),\n",
        "\n",
        "    (\"The cat is sleeping\", \"Le chat dort\"),\n",
        "\n",
        "    (\"The sun is shining\", \"Le soleil brille\"),\n",
        "\n",
        "    (\"We love music\", \"Nous aimons la musique\"),\n",
        "\n",
        "    (\"She speaks French fluently\", \"Elle parle français couramment\"),\n",
        "\n",
        "    (\"He enjoys reading books\", \"Il aime lire des livres\"),\n",
        "\n",
        "    (\"They play soccer every weekend\", \"Ils jouent au football chaque week-end\"),\n",
        "\n",
        "    (\"The movie starts at 7 PM\", \"Le film commence à 19 heures\"),\n",
        "\n",
        "    (\"She wears a red dress\", \"Elle porte une robe rouge\"),\n",
        "\n",
        "    (\"We cook dinner together\", \"Nous cuisinons le dîner ensemble\"),\n",
        "\n",
        "    (\"He drives a blue car\", \"Il conduit une voiture bleue\"),\n",
        "\n",
        "    (\"They visit museums often\", \"Ils visitent souvent des musées\"),\n",
        "\n",
        "    (\"The restaurant serves delicious food\", \"Le restaurant sert une délicieuse cuisine\"),\n",
        "\n",
        "    (\"She studies mathematics at university\", \"Elle étudie les mathématiques à l'université\"),\n",
        "\n",
        "    (\"We watch movies on Fridays\", \"Nous regardons des films le vendredi\"),\n",
        "\n",
        "    (\"He listens to music while jogging\", \"Il écoute de la musique en faisant du jogging\"),\n",
        "\n",
        "    (\"They travel around the world\", \"Ils voyagent autour du monde\"),\n",
        "\n",
        "    (\"The book is on the table\", \"Le livre est sur la table\"),\n",
        "\n",
        "    (\"She dances gracefully\", \"Elle danse avec grâce\"),\n",
        "\n",
        "    (\"We celebrate birthdays with cake\", \"Nous célébrons les anniversaires avec un gâteau\"),\n",
        "\n",
        "    (\"He works hard every day\", \"Il travaille dur tous les jours\"),\n",
        "\n",
        "    (\"They speak different languages\", \"Ils parlent différentes langues\"),\n",
        "\n",
        "    (\"The flowers bloom in spring\", \"Les fleurs fleurissent au printemps\"),\n",
        "\n",
        "    (\"She writes poetry in her free time\", \"Elle écrit de la poésie pendant son temps libre\"),\n",
        "\n",
        "    (\"We learn something new every day\", \"Nous apprenons quelque chose de nouveau chaque jour\"),\n",
        "\n",
        "    (\"The dog barks loudly\", \"Le chien aboie bruyamment\"),\n",
        "\n",
        "    (\"He sings beautifully\", \"Il chante magnifiquement\"),\n",
        "\n",
        "    (\"They swim in the pool\", \"Ils nagent dans la piscine\"),\n",
        "\n",
        "    (\"The birds chirp in the morning\", \"Les oiseaux gazouillent le matin\"),\n",
        "\n",
        "    (\"She teaches English at school\", \"Elle enseigne l'anglais à l'école\"),\n",
        "\n",
        "    (\"We eat breakfast together\", \"Nous prenons le petit déjeuner ensemble\"),\n",
        "\n",
        "    (\"He paints landscapes\", \"Il peint des paysages\"),\n",
        "\n",
        "    (\"They laugh at the joke\", \"Ils rient de la blague\"),\n",
        "\n",
        "    (\"The clock ticks loudly\", \"L'horloge tic-tac bruyamment\"),\n",
        "\n",
        "    (\"She runs in the park\", \"Elle court dans le parc\"),\n",
        "\n",
        "    (\"We travel by train\", \"Nous voyageons en train\"),\n",
        "\n",
        "    (\"He writes a letter\", \"Il écrit une lettre\"),\n",
        "\n",
        "    (\"They read books at the library\", \"Ils lisent des livres à la bibliothèque\"),\n",
        "\n",
        "    (\"The baby cries\", \"Le bébé pleure\"),\n",
        "\n",
        "    (\"She studies hard for exams\", \"Elle étudie dur pour les examens\"),\n",
        "\n",
        "    (\"We plant flowers in the garden\", \"Nous plantons des fleurs dans le jardin\"),\n",
        "\n",
        "    (\"He fixes the car\", \"Il répare la voiture\"),\n",
        "\n",
        "    (\"They drink coffee in the morning\", \"Ils boivent du café le matin\"),\n",
        "\n",
        "    (\"The sun sets in the evening\", \"Le soleil se couche le soir\"),\n",
        "\n",
        "    (\"She dances at the party\", \"Elle danse à la fête\"),\n",
        "\n",
        "    (\"We play music at the concert\", \"Nous jouons de la musique au concert\"),\n",
        "\n",
        "    (\"He cooks dinner for his family\", \"Il cuisine le dîner pour sa famille\"),\n",
        "\n",
        "    (\"They study French grammar\", \"Ils étudient la grammaire française\"),\n",
        "\n",
        "    (\"The rain falls gently\", \"La pluie tombe doucement\"),\n",
        "\n",
        "    (\"She sings a song\", \"Elle chante une chanson\"),\n",
        "\n",
        "    (\"We watch a movie together\", \"Nous regardons un film ensemble\"),\n",
        "\n",
        "    (\"He sleeps deeply\", \"Il dort profondément\"),\n",
        "\n",
        "    (\"They travel to Paris\", \"Ils voyagent à Paris\"),\n",
        "\n",
        "    (\"The children play in the park\", \"Les enfants jouent dans le parc\"),\n",
        "\n",
        "    (\"She walks along the beach\", \"Elle se promène le long de la plage\"),\n",
        "\n",
        "    (\"We talk on the phone\", \"Nous parlons au téléphone\"),\n",
        "\n",
        "    (\"He waits for the bus\", \"Il attend le bus\"),\n",
        "\n",
        "    (\"They visit the Eiffel Tower\", \"Ils visitent la tour Eiffel\"),\n",
        "\n",
        "    (\"The stars twinkle at night\", \"Les étoiles scintillent la nuit\"),\n",
        "\n",
        "    (\"She dreams of flying\", \"Elle rêve de voler\"),\n",
        "\n",
        "    (\"We work in the office\", \"Nous travaillons au bureau\"),\n",
        "\n",
        "    (\"He studies history\", \"Il étudie l'histoire\"),\n",
        "\n",
        "    (\"They listen to the radio\", \"Ils écoutent la radio\"),\n",
        "\n",
        "    (\"The wind blows gently\", \"Le vent souffle doucement\"),\n",
        "\n",
        "    (\"She swims in the ocean\", \"Elle nage dans l'océan\"),\n",
        "\n",
        "    (\"We dance at the wedding\", \"Nous dansons au mariage\"),\n",
        "\n",
        "    (\"He climbs the mountain\", \"Il gravit la montagne\"),\n",
        "\n",
        "    (\"They hike in the forest\", \"Ils font de la randonnée dans la forêt\"),\n",
        "\n",
        "    (\"The cat meows loudly\", \"Le chat miaule bruyamment\"),\n",
        "\n",
        "    (\"She paints a picture\", \"Elle peint un tableau\"),\n",
        "\n",
        "    (\"We build a sandcastle\", \"Nous construisons un château de sable\"),\n",
        "\n",
        "    (\"He sings in the choir\", \"Il chante dans le chœur\")\n",
        "]"
      ],
      "metadata": {
        "colab": {
          "base_uri": "https://localhost:8080/"
        },
        "id": "lAkQsKoBmZBx",
        "outputId": "5edc4721-57fc-4ed9-bd50-b665dec9cf25"
      },
      "execution_count": 4,
      "outputs": [
        {
          "output_type": "stream",
          "name": "stdout",
          "text": [
            "time: 955 µs (started: 2024-04-27 22:10:10 +00:00)\n"
          ]
        }
      ]
    },
    {
      "cell_type": "code",
      "source": [
        "# Assume english_to_french is a predefined list of tuples (English, French)\n",
        "english_to_french = [(\"hello\", \"bonjour\"), (\"thank you\", \"merci\")]  # Example initialization\n",
        "\n",
        "# Create a French to English list by reversing the pairs in english_to_french\n",
        "french_to_english = [(french, english) for english, french in english_to_french]\n",
        "\n",
        "# Initialize a dictionary for indexing words, starting with special tokens\n",
        "word_to_index = {\"SOS\": 0, \"EOS\": 1}\n",
        "\n",
        "# Populate the dictionary with indices for each unique word in the dataset\n",
        "for english_sentence, french_sentence in english_to_french:\n",
        "    for word in english_sentence.split() + french_sentence.split():\n",
        "        if word not in word_to_index:\n",
        "            word_to_index[word] = len(word_to_index)\n"
      ],
      "metadata": {
        "colab": {
          "base_uri": "https://localhost:8080/"
        },
        "id": "IP5ok4uemf71",
        "outputId": "3c0d7a96-5dbc-4c2f-93fc-7ac7752e6cd1"
      },
      "execution_count": 5,
      "outputs": [
        {
          "output_type": "stream",
          "name": "stdout",
          "text": [
            "time: 504 µs (started: 2024-04-27 22:10:10 +00:00)\n"
          ]
        }
      ]
    },
    {
      "cell_type": "code",
      "source": [
        "import torch\n",
        "from torch import nn\n",
        "from torch.utils.data import Dataset\n",
        "from torch.nn.utils.rnn import pad_sequence\n",
        "\n",
        "# Dataset class for managing translation pairs\n",
        "class TranslationDataset(Dataset):\n",
        "    def __init__(self, translation_pairs, word_to_index):\n",
        "        self.translation_pairs = translation_pairs\n",
        "        self.word_to_index = word_to_index\n",
        "\n",
        "    def __len__(self):\n",
        "        return len(self.translation_pairs)\n",
        "\n",
        "    def __getitem__(self, idx):\n",
        "        french_sentence, english_sentence = self.translation_pairs[idx]\n",
        "        input_indices = [self.word_to_index[word] for word in french_sentence.split()] + [self.word_to_index[\"EOS\"]]\n",
        "        target_indices = [self.word_to_index[word] for word in english_sentence.split()] + [self.word_to_index[\"EOS\"]]\n",
        "        return (torch.tensor(input_indices, dtype=torch.long), torch.tensor(target_indices, dtype=torch.long))\n",
        "\n",
        "# Function to collate data samples into batch tensors\n",
        "def collate_batch(batch):\n",
        "    inputs, targets = zip(*batch)\n",
        "    inputs_padded = pad_sequence(inputs, batch_first=True, padding_value=word_to_index[\"EOS\"])\n",
        "    targets_padded = pad_sequence(targets, batch_first=True, padding_value=word_to_index[\"EOS\"])\n",
        "    return inputs_padded, targets_padded\n",
        "\n",
        "# Transformer model for sequence-to-sequence learning\n",
        "class Transformer(nn.Module):\n",
        "    def __init__(self, vocab_size, hidden_size, num_layers = 4, num_heads = 8, dropout = 0.2):\n",
        "        super(Transformer, self).__init__()\n",
        "        self.embedding = nn.Embedding(vocab_size, hidden_size)\n",
        "        self.transformer = nn.Transformer(\n",
        "            d_model=hidden_size,\n",
        "            nhead=num_heads,\n",
        "            num_encoder_layers=num_layers,\n",
        "            num_decoder_layers=num_layers,\n",
        "            dim_feedforward=hidden_size * 4,\n",
        "            dropout=dropout,\n",
        "            batch_first=True\n",
        "        )\n",
        "        self.output_layer = nn.Linear(hidden_size, vocab_size)\n",
        "\n",
        "    def forward(self, src, tgt):\n",
        "        src_embedded = self.embedding(src)\n",
        "        tgt_embedded = self.embedding(tgt)\n",
        "        tgt_mask = self.transformer.generate_square_subsequent_mask(tgt.size(1)).to(tgt.device)\n",
        "        transformed_output = self.transformer(src_embedded, tgt_embedded, tgt_mask=tgt_mask)\n",
        "        return self.output_layer(transformed_output)\n",
        "\n"
      ],
      "metadata": {
        "colab": {
          "base_uri": "https://localhost:8080/"
        },
        "id": "OQR13_9Km6KE",
        "outputId": "1c93e309-7087-495a-c64d-715e9a06242d"
      },
      "execution_count": 15,
      "outputs": [
        {
          "output_type": "stream",
          "name": "stdout",
          "text": [
            "time: 13.5 ms (started: 2024-04-27 22:25:20 +00:00)\n"
          ]
        }
      ]
    },
    {
      "cell_type": "code",
      "source": [
        "device = torch.device(\"cuda\" if torch.cuda.is_available() else \"cpu\")\n",
        "input_size = len(word_to_index)\n",
        "embed_size = 128\n",
        "num_layers = 4\n",
        "num_heads = 8\n",
        "dropout = 0.2\n",
        "epochs = 60"
      ],
      "metadata": {
        "colab": {
          "base_uri": "https://localhost:8080/"
        },
        "id": "RBnNDvNHnTok",
        "outputId": "974aa3b0-3f2f-4fdb-de09-60004bbdbe32"
      },
      "execution_count": 16,
      "outputs": [
        {
          "output_type": "stream",
          "name": "stdout",
          "text": [
            "time: 869 µs (started: 2024-04-27 22:25:21 +00:00)\n"
          ]
        }
      ]
    },
    {
      "cell_type": "code",
      "source": [
        "model = Transformer(input_size, embed_size).to(device)\n",
        "optimizer = optim.Adam(model.parameters(), lr=0.0005)\n",
        "loss_function = nn.CrossEntropyLoss(ignore_index=word_to_index[\"EOS\"])\n",
        "\n",
        "dataset = TranslationDataset(english_to_french, word_to_index)\n",
        "translation_loader = DataLoader(dataset, batch_size=32, shuffle=True, collate_fn= collate_batch)\n",
        "\n",
        "for epoch_num in range(epochs + 1):\n",
        "    model.train()\n",
        "\n",
        "    total_train_loss = 0\n",
        "    correct_predictions = 0\n",
        "    total_predictions = 0\n",
        "\n",
        "    for english_tensor, french_tensor in translation_loader:\n",
        "        english_tensor = english_tensor.to(device)\n",
        "        french_tensor = french_tensor.to(device)\n",
        "\n",
        "        optimizer.zero_grad()\n",
        "        output = model(english_tensor, french_tensor[:, :-1])\n",
        "        output_flat = output.view(-1, output.size(-1))\n",
        "        french_target_flat = french_tensor[:, 1:].contiguous().view(-1)\n",
        "\n",
        "        valid_french_tokens = french_target_flat != 1\n",
        "        loss = loss_function(output_flat[valid_french_tokens], french_target_flat[valid_french_tokens])\n",
        "        loss.backward()\n",
        "        optimizer.step()\n",
        "\n",
        "        total_train_loss += loss.item()\n",
        "        _, predicted = torch.max(output_flat, 1)\n",
        "        valid_predictions = (predicted == french_target_flat) & valid_french_tokens\n",
        "        correct_predictions += valid_predictions.sum().item()\n",
        "        total_predictions += valid_french_tokens.sum().item()\n",
        "\n",
        "    mean_train_loss = total_train_loss / len(translation_loader)\n",
        "    training_accuracy = correct_predictions / total_predictions if total_predictions > 0 else 0\n",
        "\n",
        "    model.eval()\n",
        "    total_eval_loss = 0\n",
        "    eval_correct = 0\n",
        "    eval_total = 0\n",
        "    with torch.no_grad():\n",
        "        for english_tensor, french_tensor in translation_loader:\n",
        "            english_tensor = english_tensor.to(device)\n",
        "            french_tensor = french_tensor.to(device)\n",
        "\n",
        "            output = model(english_tensor, french_tensor[:, :-1])\n",
        "            output_flat = output.view(-1, output.size(-1))\n",
        "            french_target_flat = french_tensor[:, 1:].contiguous().view(-1)\n",
        "\n",
        "            valid_french_tokens = french_target_flat != 1\n",
        "            loss = loss_function(output_flat[valid_french_tokens], french_target_flat[valid_french_tokens])\n",
        "\n",
        "            total_eval_loss += loss.item()\n",
        "\n",
        "            _, predicted = torch.max(output_flat, 1)\n",
        "            valid_predictions = (predicted == french_target_flat) & valid_french_tokens\n",
        "            eval_correct += valid_predictions.sum().item()\n",
        "            eval_total += valid_french_tokens.sum().item()\n",
        "\n",
        "    mean_eval_loss = total_eval_loss / len(translation_loader)\n",
        "    evaluation_accuracy = eval_correct / eval_total if eval_total > 0 else 0\n",
        "    if epoch_num % 10 == 0:\n",
        "        print(f'Epoch {epoch_num}: Loss = {mean_train_loss:.4f}, Train Accuracy = {training_accuracy:.4f}, '\n",
        "              f'Val Loss = {mean_eval_loss:.4f}, Val Accuracy = {evaluation_accuracy:.4f}')"
      ],
      "metadata": {
        "colab": {
          "base_uri": "https://localhost:8080/"
        },
        "id": "etf7IqVhnZfn",
        "outputId": "d074706a-1e35-475f-b8fb-480de15cb956"
      },
      "execution_count": 17,
      "outputs": [
        {
          "output_type": "stream",
          "name": "stdout",
          "text": [
            "Epoch 0: Loss = nan, Train Accuracy = 0.0000, Val Loss = nan, Val Accuracy = 0.0000\n",
            "Epoch 10: Loss = nan, Train Accuracy = 0.0000, Val Loss = nan, Val Accuracy = 0.0000\n",
            "Epoch 20: Loss = nan, Train Accuracy = 0.0000, Val Loss = nan, Val Accuracy = 0.0000\n",
            "Epoch 30: Loss = nan, Train Accuracy = 0.0000, Val Loss = nan, Val Accuracy = 0.0000\n",
            "Epoch 40: Loss = nan, Train Accuracy = 0.0000, Val Loss = nan, Val Accuracy = 0.0000\n",
            "Epoch 50: Loss = nan, Train Accuracy = 0.0000, Val Loss = nan, Val Accuracy = 0.0000\n",
            "Epoch 60: Loss = nan, Train Accuracy = 0.0000, Val Loss = nan, Val Accuracy = 0.0000\n",
            "time: 3.53 s (started: 2024-04-27 22:25:22 +00:00)\n"
          ]
        }
      ]
    },
    {
      "cell_type": "code",
      "source": [
        "sentence = \"You are tired\"\n",
        "\n",
        "# Ensure the model is in evaluation mode\n",
        "model.eval()\n",
        "\n",
        "# Tokenize the sentence and convert each word to its corresponding index, handling unknown words\n",
        "input_indices = [word_to_index.get(word, word_to_index[\"EOS\"]) for word in sentence.split()]\n",
        "input_tensor = torch.tensor(input_indices).unsqueeze(0).to(device)\n",
        "\n",
        "# Start the output sequence with the 'SOS' token\n",
        "output_indices = [word_to_index['SOS']]\n",
        "\n",
        "# Generate output words one by one\n",
        "for _ in range(len(input_indices)):\n",
        "    # Prepare the current output sequence as input for the model\n",
        "    output_tensor = torch.tensor(output_indices).unsqueeze(0).to(device)\n",
        "\n",
        "    # Obtain model predictions\n",
        "    with torch.no_grad():\n",
        "        predictions = model(input_tensor, output_tensor)\n",
        "\n",
        "    # Determine the predicted index (highest probability in the last position)\n",
        "    predicted_index = predictions[0, -1, :].argmax(0).item()\n",
        "\n",
        "    # Break if the model predicts the 'EOS' token\n",
        "    if predicted_index == word_to_index['EOS']:\n",
        "        break\n",
        "\n",
        "    # Append the predicted index to the output sequence\n",
        "    output_indices.append(predicted_index)\n",
        "\n",
        "# Map indices back to words, skipping the 'SOS' token for the final sentence\n",
        "index_to_word = {index: word for word, index in word_to_index.items()}\n",
        "translated_sentence = ' '.join(index_to_word[idx] for idx in output_indices if idx != word_to_index['SOS'])\n",
        "\n",
        "translated_sentence\n"
      ],
      "metadata": {
        "colab": {
          "base_uri": "https://localhost:8080/",
          "height": 53
        },
        "id": "U8Viws9tpJVL",
        "outputId": "787b8d30-9407-4fa3-ae7e-5e5df8089e0e"
      },
      "execution_count": 19,
      "outputs": [
        {
          "output_type": "execute_result",
          "data": {
            "text/plain": [
              "'merci merci merci'"
            ],
            "application/vnd.google.colaboratory.intrinsic+json": {
              "type": "string"
            }
          },
          "metadata": {},
          "execution_count": 19
        },
        {
          "output_type": "stream",
          "name": "stdout",
          "text": [
            "time: 126 ms (started: 2024-04-27 22:27:16 +00:00)\n"
          ]
        }
      ]
    },
    {
      "cell_type": "code",
      "source": [],
      "metadata": {
        "id": "Wp6XjYLgqi0Y"
      },
      "execution_count": null,
      "outputs": []
    }
  ]
}