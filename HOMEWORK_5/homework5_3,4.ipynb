{
  "cells": [
    {
      "cell_type": "code",
      "execution_count": null,
      "metadata": {
        "id": "1XI6IF73kzsq",
        "colab": {
          "base_uri": "https://localhost:8080/"
        },
        "outputId": "742e8e0f-d1b2-4dcb-8c94-cb472c70b0a5"
      },
      "outputs": [
        {
          "output_type": "stream",
          "name": "stdout",
          "text": [
            "Collecting ipython-autotime\n",
            "  Downloading ipython_autotime-0.3.2-py2.py3-none-any.whl (7.0 kB)\n",
            "Requirement already satisfied: ipython in /usr/local/lib/python3.10/dist-packages (from ipython-autotime) (7.34.0)\n",
            "Requirement already satisfied: setuptools>=18.5 in /usr/local/lib/python3.10/dist-packages (from ipython->ipython-autotime) (67.7.2)\n",
            "Collecting jedi>=0.16 (from ipython->ipython-autotime)\n",
            "  Downloading jedi-0.19.1-py2.py3-none-any.whl (1.6 MB)\n",
            "\u001b[2K     \u001b[90m━━━━━━━━━━━━━━━━━━━━━━━━━━━━━━━━━━━━━━━━\u001b[0m \u001b[32m1.6/1.6 MB\u001b[0m \u001b[31m6.9 MB/s\u001b[0m eta \u001b[36m0:00:00\u001b[0m\n",
            "\u001b[?25hRequirement already satisfied: decorator in /usr/local/lib/python3.10/dist-packages (from ipython->ipython-autotime) (4.4.2)\n",
            "Requirement already satisfied: pickleshare in /usr/local/lib/python3.10/dist-packages (from ipython->ipython-autotime) (0.7.5)\n",
            "Requirement already satisfied: traitlets>=4.2 in /usr/local/lib/python3.10/dist-packages (from ipython->ipython-autotime) (5.7.1)\n",
            "Requirement already satisfied: prompt-toolkit!=3.0.0,!=3.0.1,<3.1.0,>=2.0.0 in /usr/local/lib/python3.10/dist-packages (from ipython->ipython-autotime) (3.0.43)\n",
            "Requirement already satisfied: pygments in /usr/local/lib/python3.10/dist-packages (from ipython->ipython-autotime) (2.16.1)\n",
            "Requirement already satisfied: backcall in /usr/local/lib/python3.10/dist-packages (from ipython->ipython-autotime) (0.2.0)\n",
            "Requirement already satisfied: matplotlib-inline in /usr/local/lib/python3.10/dist-packages (from ipython->ipython-autotime) (0.1.7)\n",
            "Requirement already satisfied: pexpect>4.3 in /usr/local/lib/python3.10/dist-packages (from ipython->ipython-autotime) (4.9.0)\n",
            "Requirement already satisfied: parso<0.9.0,>=0.8.3 in /usr/local/lib/python3.10/dist-packages (from jedi>=0.16->ipython->ipython-autotime) (0.8.4)\n",
            "Requirement already satisfied: ptyprocess>=0.5 in /usr/local/lib/python3.10/dist-packages (from pexpect>4.3->ipython->ipython-autotime) (0.7.0)\n",
            "Requirement already satisfied: wcwidth in /usr/local/lib/python3.10/dist-packages (from prompt-toolkit!=3.0.0,!=3.0.1,<3.1.0,>=2.0.0->ipython->ipython-autotime) (0.2.13)\n",
            "Installing collected packages: jedi, ipython-autotime\n",
            "Successfully installed ipython-autotime-0.3.2 jedi-0.19.1\n",
            "time: 396 µs (started: 2024-04-28 00:04:42 +00:00)\n"
          ]
        }
      ],
      "source": [
        "\n",
        "!pip install ipython-autotime\n",
        "%load_ext autotime"
      ]
    },
    {
      "cell_type": "code",
      "execution_count": null,
      "metadata": {
        "id": "fq0a4DN8mTJ1",
        "colab": {
          "base_uri": "https://localhost:8080/"
        },
        "outputId": "8cffb238-83ab-425d-a89d-cd25b67e0773"
      },
      "outputs": [
        {
          "output_type": "stream",
          "name": "stdout",
          "text": [
            "time: 642 µs (started: 2024-04-28 00:08:20 +00:00)\n"
          ]
        }
      ],
      "source": [
        "import torch\n",
        "from torch.utils.data import Dataset, DataLoader\n",
        "import torch\n",
        "import torch.nn as nn\n",
        "import torch.optim as optim\n",
        "from torch.utils.data import DataLoader, Dataset\n",
        "import random\n",
        "from torch.nn.utils.rnn import pad_sequence\n"
      ]
    },
    {
      "cell_type": "code",
      "execution_count": null,
      "metadata": {
        "id": "qBKXoovMmVcm",
        "colab": {
          "base_uri": "https://localhost:8080/"
        },
        "outputId": "019f43b1-1546-43c9-d0f0-5d16074dd3aa"
      },
      "outputs": [
        {
          "output_type": "execute_result",
          "data": {
            "text/plain": [
              "device(type='cuda')"
            ]
          },
          "metadata": {},
          "execution_count": 16
        },
        {
          "output_type": "stream",
          "name": "stdout",
          "text": [
            "time: 3.73 ms (started: 2024-04-28 00:08:22 +00:00)\n"
          ]
        }
      ],
      "source": [
        "device = torch.device(\"cuda\" if torch.cuda.is_available() else \"cpu\")\n",
        "device\n"
      ]
    },
    {
      "cell_type": "code",
      "execution_count": null,
      "metadata": {
        "id": "lAkQsKoBmZBx",
        "colab": {
          "base_uri": "https://localhost:8080/"
        },
        "outputId": "f212cb9c-9d60-408c-924c-160b8c6c405f"
      },
      "outputs": [
        {
          "output_type": "stream",
          "name": "stdout",
          "text": [
            "time: 1.85 ms (started: 2024-04-28 00:08:23 +00:00)\n"
          ]
        }
      ],
      "source": [
        "english_to_french = [\n",
        "    (\"I am cold\", \"J'ai froid\"),\n",
        "\n",
        "    (\"You are tired\", \"Tu es fatigué\"),\n",
        "\n",
        "    (\"He is hungry\", \"Il a faim\"),\n",
        "\n",
        "    (\"She is happy\", \"Elle est heureuse\"),\n",
        "\n",
        "    (\"We are friends\", \"Nous sommes amis\"),\n",
        "\n",
        "    (\"They are students\", \"Ils sont étudiants\"),\n",
        "\n",
        "    (\"The cat is sleeping\", \"Le chat dort\"),\n",
        "\n",
        "    (\"The sun is shining\", \"Le soleil brille\"),\n",
        "\n",
        "    (\"We love music\", \"Nous aimons la musique\"),\n",
        "\n",
        "    (\"She speaks French fluently\", \"Elle parle français couramment\"),\n",
        "\n",
        "    (\"He enjoys reading books\", \"Il aime lire des livres\"),\n",
        "\n",
        "    (\"They play soccer every weekend\", \"Ils jouent au football chaque week-end\"),\n",
        "\n",
        "    (\"The movie starts at 7 PM\", \"Le film commence à 19 heures\"),\n",
        "\n",
        "    (\"She wears a red dress\", \"Elle porte une robe rouge\"),\n",
        "\n",
        "    (\"We cook dinner together\", \"Nous cuisinons le dîner ensemble\"),\n",
        "\n",
        "    (\"He drives a blue car\", \"Il conduit une voiture bleue\"),\n",
        "\n",
        "    (\"They visit museums often\", \"Ils visitent souvent des musées\"),\n",
        "\n",
        "    (\"The restaurant serves delicious food\", \"Le restaurant sert une délicieuse cuisine\"),\n",
        "\n",
        "    (\"She studies mathematics at university\", \"Elle étudie les mathématiques à l'université\"),\n",
        "\n",
        "    (\"We watch movies on Fridays\", \"Nous regardons des films le vendredi\"),\n",
        "\n",
        "    (\"He listens to music while jogging\", \"Il écoute de la musique en faisant du jogging\"),\n",
        "\n",
        "    (\"They travel around the world\", \"Ils voyagent autour du monde\"),\n",
        "\n",
        "    (\"The book is on the table\", \"Le livre est sur la table\"),\n",
        "\n",
        "    (\"She dances gracefully\", \"Elle danse avec grâce\"),\n",
        "\n",
        "    (\"We celebrate birthdays with cake\", \"Nous célébrons les anniversaires avec un gâteau\"),\n",
        "\n",
        "    (\"He works hard every day\", \"Il travaille dur tous les jours\"),\n",
        "\n",
        "    (\"They speak different languages\", \"Ils parlent différentes langues\"),\n",
        "\n",
        "    (\"The flowers bloom in spring\", \"Les fleurs fleurissent au printemps\"),\n",
        "\n",
        "    (\"She writes poetry in her free time\", \"Elle écrit de la poésie pendant son temps libre\"),\n",
        "\n",
        "    (\"We learn something new every day\", \"Nous apprenons quelque chose de nouveau chaque jour\"),\n",
        "\n",
        "    (\"The dog barks loudly\", \"Le chien aboie bruyamment\"),\n",
        "\n",
        "    (\"He sings beautifully\", \"Il chante magnifiquement\"),\n",
        "\n",
        "    (\"They swim in the pool\", \"Ils nagent dans la piscine\"),\n",
        "\n",
        "    (\"The birds chirp in the morning\", \"Les oiseaux gazouillent le matin\"),\n",
        "\n",
        "    (\"She teaches English at school\", \"Elle enseigne l'anglais à l'école\"),\n",
        "\n",
        "    (\"We eat breakfast together\", \"Nous prenons le petit déjeuner ensemble\"),\n",
        "\n",
        "    (\"He paints landscapes\", \"Il peint des paysages\"),\n",
        "\n",
        "    (\"They laugh at the joke\", \"Ils rient de la blague\"),\n",
        "\n",
        "    (\"The clock ticks loudly\", \"L'horloge tic-tac bruyamment\"),\n",
        "\n",
        "    (\"She runs in the park\", \"Elle court dans le parc\"),\n",
        "\n",
        "    (\"We travel by train\", \"Nous voyageons en train\"),\n",
        "\n",
        "    (\"He writes a letter\", \"Il écrit une lettre\"),\n",
        "\n",
        "    (\"They read books at the library\", \"Ils lisent des livres à la bibliothèque\"),\n",
        "\n",
        "    (\"The baby cries\", \"Le bébé pleure\"),\n",
        "\n",
        "    (\"She studies hard for exams\", \"Elle étudie dur pour les examens\"),\n",
        "\n",
        "    (\"We plant flowers in the garden\", \"Nous plantons des fleurs dans le jardin\"),\n",
        "\n",
        "    (\"He fixes the car\", \"Il répare la voiture\"),\n",
        "\n",
        "    (\"They drink coffee in the morning\", \"Ils boivent du café le matin\"),\n",
        "\n",
        "    (\"The sun sets in the evening\", \"Le soleil se couche le soir\"),\n",
        "\n",
        "    (\"She dances at the party\", \"Elle danse à la fête\"),\n",
        "\n",
        "    (\"We play music at the concert\", \"Nous jouons de la musique au concert\"),\n",
        "\n",
        "    (\"He cooks dinner for his family\", \"Il cuisine le dîner pour sa famille\"),\n",
        "\n",
        "    (\"They study French grammar\", \"Ils étudient la grammaire française\"),\n",
        "\n",
        "    (\"The rain falls gently\", \"La pluie tombe doucement\"),\n",
        "\n",
        "    (\"She sings a song\", \"Elle chante une chanson\"),\n",
        "\n",
        "    (\"We watch a movie together\", \"Nous regardons un film ensemble\"),\n",
        "\n",
        "    (\"He sleeps deeply\", \"Il dort profondément\"),\n",
        "\n",
        "    (\"They travel to Paris\", \"Ils voyagent à Paris\"),\n",
        "\n",
        "    (\"The children play in the park\", \"Les enfants jouent dans le parc\"),\n",
        "\n",
        "    (\"She walks along the beach\", \"Elle se promène le long de la plage\"),\n",
        "\n",
        "    (\"We talk on the phone\", \"Nous parlons au téléphone\"),\n",
        "\n",
        "    (\"He waits for the bus\", \"Il attend le bus\"),\n",
        "\n",
        "    (\"They visit the Eiffel Tower\", \"Ils visitent la tour Eiffel\"),\n",
        "\n",
        "    (\"The stars twinkle at night\", \"Les étoiles scintillent la nuit\"),\n",
        "\n",
        "    (\"She dreams of flying\", \"Elle rêve de voler\"),\n",
        "\n",
        "    (\"We work in the office\", \"Nous travaillons au bureau\"),\n",
        "\n",
        "    (\"He studies history\", \"Il étudie l'histoire\"),\n",
        "\n",
        "    (\"They listen to the radio\", \"Ils écoutent la radio\"),\n",
        "\n",
        "    (\"The wind blows gently\", \"Le vent souffle doucement\"),\n",
        "\n",
        "    (\"She swims in the ocean\", \"Elle nage dans l'océan\"),\n",
        "\n",
        "    (\"We dance at the wedding\", \"Nous dansons au mariage\"),\n",
        "\n",
        "    (\"He climbs the mountain\", \"Il gravit la montagne\"),\n",
        "\n",
        "    (\"They hike in the forest\", \"Ils font de la randonnée dans la forêt\"),\n",
        "\n",
        "    (\"The cat meows loudly\", \"Le chat miaule bruyamment\"),\n",
        "\n",
        "    (\"She paints a picture\", \"Elle peint un tableau\"),\n",
        "\n",
        "    (\"We build a sandcastle\", \"Nous construisons un château de sable\"),\n",
        "\n",
        "    (\"He sings in the choir\", \"Il chante dans le chœur\")\n",
        "]"
      ]
    },
    {
      "cell_type": "code",
      "execution_count": null,
      "metadata": {
        "id": "IP5ok4uemf71",
        "colab": {
          "base_uri": "https://localhost:8080/"
        },
        "outputId": "dc7d04fc-4450-4d33-c321-7ee078fe3aa0"
      },
      "outputs": [
        {
          "output_type": "stream",
          "name": "stdout",
          "text": [
            "time: 1.41 ms (started: 2024-04-28 00:08:24 +00:00)\n"
          ]
        }
      ],
      "source": [
        "\n",
        "\n",
        "# Create a French to English list by reversing the pairs in english_to_french\n",
        "french_to_english = [(french, english) for english, french in english_to_french]\n",
        "\n",
        "# Initialize a dictionary for indexing words, starting with special tokens\n",
        "word_to_index = {\"SOS\": 0, \"EOS\": 1}\n",
        "\n",
        "# Populate the dictionary with indices for each unique word in the dataset\n",
        "for english_sentence, french_sentence in english_to_french:\n",
        "    for word in english_sentence.split() + french_sentence.split():\n",
        "        if word not in word_to_index:\n",
        "            word_to_index[word] = len(word_to_index)\n",
        "\n",
        "\n"
      ]
    },
    {
      "cell_type": "code",
      "execution_count": null,
      "metadata": {
        "id": "OQR13_9Km6KE",
        "colab": {
          "base_uri": "https://localhost:8080/"
        },
        "outputId": "e8ea573a-6b93-4fb0-95d5-8927a2361a61"
      },
      "outputs": [
        {
          "output_type": "stream",
          "name": "stdout",
          "text": [
            "time: 1.78 ms (started: 2024-04-28 00:08:25 +00:00)\n"
          ]
        }
      ],
      "source": [
        "class TranslationDataset(Dataset):\n",
        "    def __init__(self, dataset, word_to_index):\n",
        "        self.dataset = dataset\n",
        "        self.word_to_index = word_to_index\n",
        "\n",
        "    def __len__(self):\n",
        "        return len(self.dataset)\n",
        "\n",
        "    def __getitem__(self, idx):\n",
        "        french_sentence, english_sentence = self.dataset[idx]\n",
        "        input_indices = [self.word_to_index[word] for word in french_sentence.split()] + [word_to_index[\"EOS\"]]\n",
        "        target_indices = [self.word_to_index[word] for word in english_sentence.split()] + [word_to_index[\"EOS\"]]\n",
        "        return torch.tensor(input_indices, dtype=torch.long), torch.tensor(target_indices, dtype=torch.long)\n",
        "\n",
        "def collate_batch(batch):\n",
        "    input_tensors, target_tensors = zip(*batch)\n",
        "    input_tensors_padded = pad_sequence(input_tensors, batch_first=True, padding_value=word_to_index[\"EOS\"])\n",
        "    target_tensors_padded = pad_sequence(target_tensors, batch_first=True, padding_value=word_to_index[\"EOS\"])\n",
        "    return input_tensors_padded, target_tensors_padded\n",
        "\n",
        "# Transformer Model\n",
        "class Transformer(nn.Module):\n",
        "    def __init__(self, vocab_size, hidden_size, num_layers = 4, num_heads = 8, dropout = 0.2):\n",
        "        super(Transformer, self).__init__()\n",
        "        self.embedding = nn.Embedding(vocab_size, hidden_size)\n",
        "        self.transformer = nn.Transformer(\n",
        "            d_model=hidden_size,\n",
        "            nhead=num_heads,\n",
        "            num_encoder_layers=num_layers,\n",
        "            num_decoder_layers=num_layers,\n",
        "            dim_feedforward=hidden_size * 4,\n",
        "            dropout=dropout,\n",
        "            batch_first=True\n",
        "        )\n",
        "        self.fc_out = nn.Linear(hidden_size, vocab_size)\n",
        "\n",
        "    def forward(self, src, tgt):\n",
        "        src = self.embedding(src)\n",
        "        tgt = self.embedding(tgt)\n",
        "        tgt_mask = self.transformer.generate_square_subsequent_mask(tgt.size(1)).to(tgt.device)\n",
        "        output = self.transformer(src, tgt, tgt_mask=tgt_mask)\n",
        "        return self.fc_out(output)\n"
      ]
    },
    {
      "cell_type": "code",
      "execution_count": null,
      "metadata": {
        "id": "RBnNDvNHnTok",
        "colab": {
          "base_uri": "https://localhost:8080/"
        },
        "outputId": "7a55f8eb-e7b7-43b8-a405-85c96416e665"
      },
      "outputs": [
        {
          "output_type": "stream",
          "name": "stdout",
          "text": [
            "time: 980 µs (started: 2024-04-28 00:09:00 +00:00)\n"
          ]
        }
      ],
      "source": [
        "device = torch.device(\"cuda\" if torch.cuda.is_available() else \"cpu\")\n",
        "input_size = len(word_to_index)\n",
        "embed_size = 128\n",
        "num_layers = 4\n",
        "num_heads = 8\n",
        "dropout = 0.2\n",
        "epochs = 60"
      ]
    },
    {
      "cell_type": "code",
      "execution_count": null,
      "metadata": {
        "id": "etf7IqVhnZfn",
        "colab": {
          "base_uri": "https://localhost:8080/"
        },
        "outputId": "63c6c5b4-1816-46b4-d0f2-0bd153308bfc"
      },
      "outputs": [
        {
          "output_type": "stream",
          "name": "stdout",
          "text": [
            "Epoch 0: Loss = 6.0538, Train Accuracy = 0.0067, Val Loss = 5.6131, Val Accuracy = 0.0604\n",
            "Epoch 10: Loss = 4.5236, Train Accuracy = 0.1544, Val Loss = 4.0826, Val Accuracy = 0.1812\n",
            "Epoch 20: Loss = 3.4922, Train Accuracy = 0.2852, Val Loss = 2.8782, Val Accuracy = 0.3893\n",
            "Epoch 30: Loss = 2.6271, Train Accuracy = 0.5268, Val Loss = 1.9311, Val Accuracy = 0.6611\n",
            "Epoch 40: Loss = 1.9441, Train Accuracy = 0.7181, Val Loss = 1.2092, Val Accuracy = 0.8188\n",
            "Epoch 50: Loss = 1.3561, Train Accuracy = 0.8893, Val Loss = 0.7275, Val Accuracy = 0.9631\n",
            "Epoch 60: Loss = 0.9474, Train Accuracy = 0.9664, Val Loss = 0.4426, Val Accuracy = 0.9966\n",
            "time: 6.36 s (started: 2024-04-28 00:09:01 +00:00)\n"
          ]
        }
      ],
      "source": [
        "model = Transformer(input_size, embed_size).to(device)\n",
        "optimizer = optim.Adam(model.parameters(), lr=0.0005)\n",
        "loss_function = nn.CrossEntropyLoss(ignore_index=word_to_index[\"EOS\"])\n",
        "\n",
        "dataset = TranslationDataset(english_to_french, word_to_index)\n",
        "translation_loader = DataLoader(dataset, batch_size=32, shuffle=True, collate_fn= collate_batch)\n",
        "\n",
        "for epoch_num in range(epochs + 1):\n",
        "    model.train()\n",
        "\n",
        "    total_train_loss = 0\n",
        "    correct_predictions = 0\n",
        "    total_predictions = 0\n",
        "\n",
        "    for english_tensor, french_tensor in translation_loader:\n",
        "        english_tensor = english_tensor.to(device)\n",
        "        french_tensor = french_tensor.to(device)\n",
        "\n",
        "        optimizer.zero_grad()\n",
        "        output = model(english_tensor, french_tensor[:, :-1])\n",
        "        output_flat = output.view(-1, output.size(-1))\n",
        "        french_target_flat = french_tensor[:, 1:].contiguous().view(-1)\n",
        "\n",
        "        valid_french_tokens = french_target_flat != 1\n",
        "        loss = loss_function(output_flat[valid_french_tokens], french_target_flat[valid_french_tokens])\n",
        "        loss.backward()\n",
        "        optimizer.step()\n",
        "\n",
        "        total_train_loss += loss.item()\n",
        "        _, predicted = torch.max(output_flat, 1)\n",
        "        valid_predictions = (predicted == french_target_flat) & valid_french_tokens\n",
        "        correct_predictions += valid_predictions.sum().item()\n",
        "        total_predictions += valid_french_tokens.sum().item()\n",
        "\n",
        "    mean_train_loss = total_train_loss / len(translation_loader)\n",
        "    training_accuracy = correct_predictions / total_predictions if total_predictions > 0 else 0\n",
        "\n",
        "    model.eval()\n",
        "    total_eval_loss = 0\n",
        "    eval_correct = 0\n",
        "    eval_total = 0\n",
        "    with torch.no_grad():\n",
        "        for english_tensor, french_tensor in translation_loader:\n",
        "            english_tensor = english_tensor.to(device)\n",
        "            french_tensor = french_tensor.to(device)\n",
        "\n",
        "            output = model(english_tensor, french_tensor[:, :-1])\n",
        "            output_flat = output.view(-1, output.size(-1))\n",
        "            french_target_flat = french_tensor[:, 1:].contiguous().view(-1)\n",
        "\n",
        "            valid_french_tokens = french_target_flat != 1\n",
        "            loss = loss_function(output_flat[valid_french_tokens], french_target_flat[valid_french_tokens])\n",
        "\n",
        "            total_eval_loss += loss.item()\n",
        "\n",
        "            _, predicted = torch.max(output_flat, 1)\n",
        "            valid_predictions = (predicted == french_target_flat) & valid_french_tokens\n",
        "            eval_correct += valid_predictions.sum().item()\n",
        "            eval_total += valid_french_tokens.sum().item()\n",
        "\n",
        "    mean_eval_loss = total_eval_loss / len(translation_loader)\n",
        "    evaluation_accuracy = eval_correct / eval_total if eval_total > 0 else 0\n",
        "    if epoch_num % 10 == 0:\n",
        "        print(f'Epoch {epoch_num}: Loss = {mean_train_loss:.4f}, Train Accuracy = {training_accuracy:.4f}, '\n",
        "              f'Val Loss = {mean_eval_loss:.4f}, Val Accuracy = {evaluation_accuracy:.4f}')\n"
      ]
    },
    {
      "cell_type": "code",
      "execution_count": null,
      "metadata": {
        "id": "U8Viws9tpJVL",
        "colab": {
          "base_uri": "https://localhost:8080/",
          "height": 53
        },
        "outputId": "6e8bf9fb-1944-4d71-aa6a-86e6010b4d88"
      },
      "outputs": [
        {
          "output_type": "execute_result",
          "data": {
            "text/plain": [
              "'dans le fatigué'"
            ],
            "application/vnd.google.colaboratory.intrinsic+json": {
              "type": "string"
            }
          },
          "metadata": {},
          "execution_count": 22
        },
        {
          "output_type": "stream",
          "name": "stdout",
          "text": [
            "time: 35.3 ms (started: 2024-04-28 00:09:23 +00:00)\n"
          ]
        }
      ],
      "source": [
        "sentence = \"You are tired\"\n",
        "\n",
        "# Ensure the model is in evaluation mode\n",
        "model.eval()\n",
        "\n",
        "# Tokenize the sentence and convert each word to its corresponding index, handling unknown words\n",
        "input_indices = [word_to_index.get(word, word_to_index[\"EOS\"]) for word in sentence.split()]\n",
        "input_tensor = torch.tensor(input_indices).unsqueeze(0).to(device)\n",
        "\n",
        "# Start the output sequence with the 'SOS' token\n",
        "output_indices = [word_to_index['SOS']]\n",
        "\n",
        "# Generate output words one by one\n",
        "for _ in range(len(input_indices)):\n",
        "    # Prepare the current output sequence as input for the model\n",
        "    output_tensor = torch.tensor(output_indices).unsqueeze(0).to(device)\n",
        "\n",
        "    # Obtain model predictions\n",
        "    with torch.no_grad():\n",
        "        predictions = model(input_tensor, output_tensor)\n",
        "\n",
        "    # Determine the predicted index (highest probability in the last position)\n",
        "    predicted_index = predictions[0, -1, :].argmax(0).item()\n",
        "\n",
        "    # Break if the model predicts the 'EOS' token\n",
        "    if predicted_index == word_to_index['EOS']:\n",
        "        break\n",
        "\n",
        "    # Append the predicted index to the output sequence\n",
        "    output_indices.append(predicted_index)\n",
        "\n",
        "# Map indices back to words, skipping the 'SOS' token for the final sentence\n",
        "index_to_word = {index: word for word, index in word_to_index.items()}\n",
        "translated_sentence = ' '.join(index_to_word[idx] for idx in output_indices if idx != word_to_index['SOS'])\n",
        "\n",
        "translated_sentence\n"
      ]
    },
    {
      "cell_type": "markdown",
      "metadata": {
        "id": "gOdKVna7rKmn"
      },
      "source": [
        "question 4"
      ]
    },
    {
      "cell_type": "code",
      "execution_count": null,
      "metadata": {
        "id": "Wp6XjYLgqi0Y",
        "colab": {
          "base_uri": "https://localhost:8080/"
        },
        "outputId": "074dd7c1-d4c8-47a7-be86-9ebf73ccfa3a"
      },
      "outputs": [
        {
          "output_type": "stream",
          "name": "stdout",
          "text": [
            "time: 1.28 ms (started: 2024-04-28 00:09:26 +00:00)\n"
          ]
        }
      ],
      "source": [
        "# Assume english_to_french is defined elsewhere\n",
        "french_to_english = [(french, english) for english, french in english_to_french]\n",
        "word_to_index = {\"SOS\": 0, \"EOS\": 1}\n",
        "for eng, fre in english_to_french:\n",
        "    for word in eng.split() + fre.split():\n",
        "        if word not in word_to_index:\n",
        "            word_to_index[word] = len(word_to_index)"
      ]
    },
    {
      "cell_type": "code",
      "execution_count": null,
      "metadata": {
        "id": "CIe0vrUMrsfX",
        "colab": {
          "base_uri": "https://localhost:8080/"
        },
        "outputId": "3e3c564e-3f9c-4e95-f365-3d5848efac3d"
      },
      "outputs": [
        {
          "output_type": "stream",
          "name": "stdout",
          "text": [
            "time: 1.43 ms (started: 2024-04-28 00:09:27 +00:00)\n"
          ]
        }
      ],
      "source": [
        "class TranslationDataset(Dataset):\n",
        "    def __init__(self, dataset, word_to_index):\n",
        "        self.dataset = dataset\n",
        "        self.word_to_index = word_to_index\n",
        "\n",
        "    def __len__(self):\n",
        "        return len(self.dataset)\n",
        "\n",
        "    def __getitem__(self, idx):\n",
        "        french_sentence, english_sentence = self.dataset[idx]\n",
        "        input_indices = [self.word_to_index[word] for word in french_sentence.split()] + [word_to_index[\"EOS\"]]\n",
        "        target_indices = [self.word_to_index[word] for word in english_sentence.split()] + [word_to_index[\"EOS\"]]\n",
        "        return torch.tensor(input_indices, dtype=torch.long), torch.tensor(target_indices, dtype=torch.long)\n",
        "\n",
        "def collate_batch(batch):\n",
        "    input_tensors, target_tensors = zip(*batch)\n",
        "    input_tensors_padded = pad_sequence(input_tensors, batch_first=True, padding_value=word_to_index[\"EOS\"])\n",
        "    target_tensors_padded = pad_sequence(target_tensors, batch_first=True, padding_value=word_to_index[\"EOS\"])\n",
        "    return input_tensors_padded, target_tensors_padded\n",
        "\n",
        "# Transformer Model\n",
        "class Transformer(nn.Module):\n",
        "    def __init__(self, vocab_size, hidden_size, num_layers = 4, num_heads = 8, dropout = 0.2):\n",
        "        super(Transformer, self).__init__()\n",
        "        self.embedding = nn.Embedding(vocab_size, hidden_size)\n",
        "        self.transformer = nn.Transformer(\n",
        "            d_model=hidden_size,\n",
        "            nhead=num_heads,\n",
        "            num_encoder_layers=num_layers,\n",
        "            num_decoder_layers=num_layers,\n",
        "            dim_feedforward=hidden_size * 4,\n",
        "            dropout=dropout,\n",
        "            batch_first=True\n",
        "        )\n",
        "        self.fc_out = nn.Linear(hidden_size, vocab_size)\n",
        "\n",
        "    def forward(self, src, tgt):\n",
        "        src = self.embedding(src)\n",
        "        tgt = self.embedding(tgt)\n",
        "        tgt_mask = self.transformer.generate_square_subsequent_mask(tgt.size(1)).to(tgt.device)\n",
        "        output = self.transformer(src, tgt, tgt_mask=tgt_mask)\n",
        "        return self.fc_out(output)"
      ]
    },
    {
      "cell_type": "code",
      "execution_count": null,
      "metadata": {
        "id": "cU1QoUldsOAJ",
        "colab": {
          "base_uri": "https://localhost:8080/"
        },
        "outputId": "60131197-fbbe-4529-9821-fdc3af9e1fe2"
      },
      "outputs": [
        {
          "output_type": "stream",
          "name": "stdout",
          "text": [
            "time: 969 µs (started: 2024-04-28 00:09:29 +00:00)\n"
          ]
        }
      ],
      "source": [
        "device = torch.device(\"cuda\" if torch.cuda.is_available() else \"cpu\")\n",
        "input_size = len(word_to_index)\n",
        "embed_size = 128\n",
        "num_layers = 4\n",
        "num_heads = 8\n",
        "dropout = 0.2\n",
        "epochs = 60"
      ]
    },
    {
      "cell_type": "code",
      "execution_count": null,
      "metadata": {
        "id": "oBeRp1m7spFP",
        "colab": {
          "base_uri": "https://localhost:8080/"
        },
        "outputId": "36efc9df-ad7b-4e53-af7e-50607321bc60"
      },
      "outputs": [
        {
          "output_type": "stream",
          "name": "stdout",
          "text": [
            "Epoch 0: Loss = 5.9288, Train Accuracy = 0.0183, Val Loss = 5.4744, Val Accuracy = 0.0916\n",
            "Epoch 10: Loss = 4.3777, Train Accuracy = 0.1868, Val Loss = 4.0205, Val Accuracy = 0.1832\n",
            "Epoch 20: Loss = 3.3105, Train Accuracy = 0.3480, Val Loss = 2.7133, Val Accuracy = 0.4103\n",
            "Epoch 30: Loss = 2.4379, Train Accuracy = 0.5348, Val Loss = 1.8176, Val Accuracy = 0.6300\n",
            "Epoch 40: Loss = 1.7965, Train Accuracy = 0.7179, Val Loss = 1.1307, Val Accuracy = 0.8755\n",
            "Epoch 50: Loss = 1.2285, Train Accuracy = 0.8791, Val Loss = 0.6646, Val Accuracy = 0.9853\n",
            "Epoch 60: Loss = 0.8439, Train Accuracy = 0.9670, Val Loss = 0.3793, Val Accuracy = 1.0000\n",
            "time: 7.07 s (started: 2024-04-28 00:09:30 +00:00)\n"
          ]
        }
      ],
      "source": [
        "model = Transformer(input_size, embed_size).to(device)\n",
        "optimizer = optim.Adam(model.parameters(), lr=0.0005)\n",
        "loss_function = nn.CrossEntropyLoss(ignore_index=word_to_index[\"EOS\"])\n",
        "\n",
        "dataset = TranslationDataset(french_to_english, word_to_index)\n",
        "translation_loader = DataLoader(dataset, batch_size=32, shuffle=True, collate_fn= collate_batch)\n",
        "\n",
        "for epoch_num in range(epochs + 1):\n",
        "    model.train()\n",
        "\n",
        "    total_train_loss = 0\n",
        "    correct_predictions = 0\n",
        "    total_predictions = 0\n",
        "\n",
        "    for english_tensor, french_tensor in translation_loader:\n",
        "        english_tensor = english_tensor.to(device)\n",
        "        french_tensor = french_tensor.to(device)\n",
        "\n",
        "        optimizer.zero_grad()\n",
        "        output = model(english_tensor, french_tensor[:, :-1])\n",
        "        output_flat = output.view(-1, output.size(-1))\n",
        "        french_target_flat = french_tensor[:, 1:].contiguous().view(-1)\n",
        "\n",
        "        valid_french_tokens = french_target_flat != 1\n",
        "        loss = loss_function(output_flat[valid_french_tokens], french_target_flat[valid_french_tokens])\n",
        "        loss.backward()\n",
        "        optimizer.step()\n",
        "\n",
        "        total_train_loss += loss.item()\n",
        "        _, predicted = torch.max(output_flat, 1)\n",
        "        valid_predictions = (predicted == french_target_flat) & valid_french_tokens\n",
        "        correct_predictions += valid_predictions.sum().item()\n",
        "        total_predictions += valid_french_tokens.sum().item()\n",
        "\n",
        "    mean_train_loss = total_train_loss / len(translation_loader)\n",
        "    training_accuracy = correct_predictions / total_predictions if total_predictions > 0 else 0\n",
        "\n",
        "    model.eval()\n",
        "    total_eval_loss = 0\n",
        "    eval_correct = 0\n",
        "    eval_total = 0\n",
        "    with torch.no_grad():\n",
        "        for english_tensor, french_tensor in translation_loader:\n",
        "            english_tensor = english_tensor.to(device)\n",
        "            french_tensor = french_tensor.to(device)\n",
        "\n",
        "            output = model(english_tensor, french_tensor[:, :-1])\n",
        "            output_flat = output.view(-1, output.size(-1))\n",
        "            french_target_flat = french_tensor[:, 1:].contiguous().view(-1)\n",
        "\n",
        "            valid_french_tokens = french_target_flat != 1\n",
        "            loss = loss_function(output_flat[valid_french_tokens], french_target_flat[valid_french_tokens])\n",
        "\n",
        "            total_eval_loss += loss.item()\n",
        "\n",
        "            _, predicted = torch.max(output_flat, 1)\n",
        "            valid_predictions = (predicted == french_target_flat) & valid_french_tokens\n",
        "            eval_correct += valid_predictions.sum().item()\n",
        "            eval_total += valid_french_tokens.sum().item()\n",
        "\n",
        "    mean_eval_loss = total_eval_loss / len(translation_loader)\n",
        "    evaluation_accuracy = eval_correct / eval_total if eval_total > 0 else 0\n",
        "    if epoch_num % 10 == 0:\n",
        "        print(f'Epoch {epoch_num}: Loss = {mean_train_loss:.4f}, Train Accuracy = {training_accuracy:.4f}, '\n",
        "              f'Val Loss = {mean_eval_loss:.4f}, Val Accuracy = {evaluation_accuracy:.4f}')\n"
      ]
    },
    {
      "cell_type": "code",
      "execution_count": null,
      "metadata": {
        "id": "3N-5h5oFswX8",
        "colab": {
          "base_uri": "https://localhost:8080/",
          "height": 53
        },
        "outputId": "99e7f96f-59fd-49dd-bba9-3aab614cd2dc"
      },
      "outputs": [
        {
          "output_type": "execute_result",
          "data": {
            "text/plain": [
              "'happy is happy'"
            ],
            "application/vnd.google.colaboratory.intrinsic+json": {
              "type": "string"
            }
          },
          "metadata": {},
          "execution_count": 27
        },
        {
          "output_type": "stream",
          "name": "stdout",
          "text": [
            "time: 28.4 ms (started: 2024-04-28 00:10:10 +00:00)\n"
          ]
        }
      ],
      "source": [
        "sentence =  \"Elle est heureuse\"\n",
        "\n",
        "\n",
        "# Ensure the model is in evaluation mode\n",
        "model.eval()\n",
        "\n",
        "# Tokenize the sentence and convert each word to its corresponding index, handling unknown words\n",
        "input_indices = [word_to_index.get(word, word_to_index[\"EOS\"]) for word in sentence.split()]\n",
        "input_tensor = torch.tensor(input_indices).unsqueeze(0).to(device)\n",
        "\n",
        "# Start the output sequence with the 'SOS' token\n",
        "output_indices = [word_to_index['SOS']]\n",
        "\n",
        "# Generate output words one by one\n",
        "for _ in range(len(input_indices)):\n",
        "    # Prepare the current output sequence as input for the model\n",
        "    output_tensor = torch.tensor(output_indices).unsqueeze(0).to(device)\n",
        "\n",
        "    # Obtain model predictions\n",
        "    with torch.no_grad():\n",
        "        predictions = model(input_tensor, output_tensor)\n",
        "\n",
        "    # Determine the predicted index (highest probability in the last position)\n",
        "    predicted_index = predictions[0, -1, :].argmax(0).item()\n",
        "\n",
        "    # Break if the model predicts the 'EOS' token\n",
        "    if predicted_index == word_to_index['EOS']:\n",
        "        break\n",
        "\n",
        "    # Append the predicted index to the output sequence\n",
        "    output_indices.append(predicted_index)\n",
        "\n",
        "# Map indices back to words, skipping the 'SOS' token for the final sentence\n",
        "index_to_word = {index: word for word, index in word_to_index.items()}\n",
        "translated_sentence = ' '.join(index_to_word[idx] for idx in output_indices if idx != word_to_index['SOS'])\n",
        "\n",
        "translated_sentence\n"
      ]
    },
    {
      "cell_type": "code",
      "source": [],
      "metadata": {
        "id": "n47K75Cu65Fe",
        "outputId": "8e987f1e-9900-4938-cc87-386d557adc88",
        "colab": {
          "base_uri": "https://localhost:8080/"
        }
      },
      "execution_count": null,
      "outputs": [
        {
          "output_type": "stream",
          "name": "stdout",
          "text": [
            "time: 75.8 ms (started: 2024-04-28 00:05:02 +00:00)\n"
          ]
        }
      ]
    }
  ],
  "metadata": {
    "accelerator": "GPU",
    "colab": {
      "gpuType": "T4",
      "provenance": []
    },
    "kernelspec": {
      "display_name": "Python 3",
      "name": "python3"
    },
    "language_info": {
      "codemirror_mode": {
        "name": "ipython",
        "version": 3
      },
      "file_extension": ".py",
      "mimetype": "text/x-python",
      "name": "python",
      "nbconvert_exporter": "python",
      "pygments_lexer": "ipython3",
      "version": "3.9.1"
    }
  },
  "nbformat": 4,
  "nbformat_minor": 0
}